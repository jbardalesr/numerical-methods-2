{
 "cells": [
  {
   "cell_type": "code",
   "execution_count": 1,
   "metadata": {},
   "outputs": [],
   "source": [
    "import numpy as np\n",
    "import sympy as sp"
   ]
  },
  {
   "cell_type": "code",
   "execution_count": 2,
   "metadata": {},
   "outputs": [
    {
     "data": {
      "text/latex": [
       "$\\displaystyle - \\frac{4 U}{3} + \\frac{4 Uη}{3} + Uηη + \\frac{8 Uξ}{3} - Uξξ$"
      ],
      "text/plain": [
       "-4*U/3 + 4*Uη/3 + Uηη + 8*Uξ/3 - Uξξ"
      ]
     },
     "execution_count": 2,
     "metadata": {},
     "output_type": "execute_result"
    }
   ],
   "source": [
    "Uxx, Uyy, Uxy, Ux, Uy, U, x, y = sp.symbols('Uxx Uyy Uxy Ux Uy U x y', real=True)\n",
    "Uξξ, Uηη, Uξη, Uξ, Uη, ξ, η = sp.symbols('Uξξ Uηη Uξη Uξ Uη ξ η', real=True)\n",
    "ξx, ξy, ηx, ηy = sp.symbols('ξx ξy ηx ηy', real=True)\n",
    "\n",
    "ξ = y - sp.Rational(1/2)*x\n",
    "η = -sp.Rational(3/2)*x\n",
    "\n",
    "ξx = sp.diff(ξ, x)\n",
    "ξy = sp.diff(ξ, y)\n",
    "ηx = sp.diff(η, x)\n",
    "ηy = sp.diff(η, y)\n",
    "\n",
    "Ux = Uξ*ξx + Uη*ηx\n",
    "Uy = Uξ*ξy + Uη*ηy\n",
    "\n",
    "Uxx = (Uξξ*ξx + Uξη*ηx)*ξx + (Uξη*ξx + Uηη*ηx)*ηx\n",
    "Uyy = (Uξξ*ξy + Uξη*ηy)*ξy + (Uξη*ξy + Uηη*ηy)*ηy\n",
    "\n",
    "Uxy = (Uξξ*ξx + Uξη*ηx)*ξy + (Uξη*ξx + Uηη*ηx)*ηy\n",
    "\n",
    "(Uxx + Uxy - 2*Uyy -2*Ux + 5*Uy -3*U)*4/9"
   ]
  },
  {
   "cell_type": "code",
   "execution_count": 3,
   "metadata": {},
   "outputs": [
    {
     "data": {
      "text/latex": [
       "$\\displaystyle 8 U - 8 Uη + 64 Uξ - 64 Uξη$"
      ],
      "text/plain": [
       "8*U - 8*Uη + 64*Uξ - 64*Uξη"
      ]
     },
     "execution_count": 3,
     "metadata": {},
     "output_type": "execute_result"
    }
   ],
   "source": [
    "Uxx, Uyy, Uxy, Ux, Uy, U, x, y = sp.symbols('Uxx Uyy Uxy Ux Uy U x y', real=True)\n",
    "Uξξ, Uηη, Uξη, Uξ, Uη, ξ, η = sp.symbols('Uξξ Uηη Uξη Uξ Uη ξ η', real=True)\n",
    "ξx, ξy, ηx, ηy = sp.symbols('ξx ξy ηx ηy', real=True)\n",
    "\n",
    "ξ = y + sp.Rational(7)*x\n",
    "η = y - sp.Rational(1)*x\n",
    "\n",
    "ξx = sp.diff(ξ, x)\n",
    "ξy = sp.diff(ξ, y)\n",
    "ηx = sp.diff(η, x)\n",
    "ηy = sp.diff(η, y)\n",
    "\n",
    "Ux = Uξ*ξx + Uη*ηx\n",
    "Uy = Uξ*ξy + Uη*ηy\n",
    "\n",
    "Uxx = (Uξξ*ξx + Uξη*ηx)*ξx + (Uξη*ξx + Uηη*ηx)*ηx\n",
    "Uyy = (Uξξ*ξy + Uξη*ηy)*ξy + (Uξη*ξy + Uηη*ηy)*ηy\n",
    "\n",
    "Uxy = (Uξξ*ξx + Uξη*ηx)*ξy + (Uξη*ξx + Uηη*ηx)*ηy\n",
    "\n",
    "Uxx - 6*Uxy - 7*Uyy + 9*Ux + Uy + 8*U"
   ]
  },
  {
   "cell_type": "code",
   "execution_count": 4,
   "metadata": {},
   "outputs": [
    {
     "data": {
      "text/latex": [
       "$\\displaystyle 8 U + Uη - 7 Uηη + 19 Uξ - 26 Uξη - 15 Uξξ$"
      ],
      "text/plain": [
       "8*U + Uη - 7*Uηη + 19*Uξ - 26*Uξη - 15*Uξξ"
      ]
     },
     "execution_count": 4,
     "metadata": {},
     "output_type": "execute_result"
    }
   ],
   "source": [
    "Uxx, Uyy, Uxy, Ux, Uy, U, x, y = sp.symbols('Uxx Uyy Uxy Ux Uy U x y', real=True)\n",
    "Uξξ, Uηη, Uξη, Uξ, Uη, ξ, η = sp.symbols('Uξξ Uηη Uξη Uξ Uη ξ η', real=True)\n",
    "ξx, ξy, ηx, ηy = sp.symbols('ξx ξy ηx ηy', real=True)\n",
    "\n",
    "ξ = y + 2*x\n",
    "η = y\n",
    "\n",
    "ξx = sp.diff(ξ, x)\n",
    "ξy = sp.diff(ξ, y)\n",
    "ηx = sp.diff(η, x)\n",
    "ηy = sp.diff(η, y)\n",
    "\n",
    "Ux = Uξ*ξx + Uη*ηx\n",
    "Uy = Uξ*ξy + Uη*ηy\n",
    "\n",
    "Uxx = (Uξξ*ξx + Uξη*ηx)*ξx + (Uξη*ξx + Uηη*ηx)*ηx\n",
    "Uyy = (Uξξ*ξy + Uξη*ηy)*ξy + (Uξη*ξy + Uηη*ηy)*ηy\n",
    "\n",
    "Uxy = (Uξξ*ξx + Uξη*ηx)*ξy + (Uξη*ξx + Uηη*ηx)*ηy\n",
    "\n",
    "Uxx - 6*Uxy - 7*Uyy + 9*Ux + Uy + 8*U"
   ]
  }
 ],
 "metadata": {
  "kernelspec": {
   "display_name": "Python 3",
   "language": "python",
   "name": "python3"
  },
  "language_info": {
   "codemirror_mode": {
    "name": "ipython",
    "version": 3
   },
   "file_extension": ".py",
   "mimetype": "text/x-python",
   "name": "python",
   "nbconvert_exporter": "python",
   "pygments_lexer": "ipython3",
   "version": "3.8.5"
  }
 },
 "nbformat": 4,
 "nbformat_minor": 4
}
