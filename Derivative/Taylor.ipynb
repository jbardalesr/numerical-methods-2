{
 "cells": [
  {
   "cell_type": "code",
   "execution_count": 7,
   "metadata": {},
   "outputs": [],
   "source": [
    "import matplotlib.pyplot  as plt\n",
    "import numpy as np\n",
    "import sympy as sp\n",
    "import pandas as pd"
   ]
  },
  {
   "cell_type": "code",
   "execution_count": 8,
   "metadata": {},
   "outputs": [],
   "source": [
    "def taylor_order2(y_data: list, h: float) -> list:\n",
    "    n = len(y_data) - 1\n",
    "    dy_data = [(y_data[1] - y_data[0])/h]                   # forward\n",
    "    for k in range(1, n):\n",
    "        dy_data.append(0.5*(y_data[k+1] - y_data[k-1])/h)   # central\n",
    "    dy_data.append((y_data[n] - y_data[n-1])/h)             # backward\n",
    "    return dy_data"
   ]
  },
  {
   "cell_type": "code",
   "execution_count": 64,
   "metadata": {},
   "outputs": [],
   "source": [
    "def taylor_order4(y_data: list, h: float) -> list:\n",
    "    n = len(y_data) - 1\n",
    "    dy_data = [(y_data[1] - y_data[0])/h]               # forward\n",
    "    dy_data.append(0.5*(y_data[2] - y_data[0])/h)       # order 2\n",
    "    for k in range(2, n-1):\n",
    "        dy_data.append((-y_data[k+2] + 8*y_data[k+1] - 8*y_data[k-1] + y_data[k-2])/(12*h))  # order4\n",
    "    dy_data.append(0.5*(y_data[n] - y_data[n-2])/h)     # order2\n",
    "    dy_data.append((y_data[n] - y_data[n-1])/h)         # backward\n",
    "    return dy_data"
   ]
  },
  {
   "cell_type": "code",
   "execution_count": 65,
   "metadata": {},
   "outputs": [],
   "source": [
    "def three_points(y_data: list, h: float) -> list:\n",
    "    n = len(y_data) - 1\n",
    "    dy_data = np.zeros(n + 1)\n",
    "\n",
    "    for k in range(n - 1):\n",
    "        dy_data[k]= 0.5*(-3*y_data[k] + 4*y_data[k+1] - y_data[k+2])/h  # 3-points \n",
    "\n",
    "    dy_data[n-1] = 0.5*(y_data[n] - y_data[n-2])/h      # 3-point central\n",
    "    dy_data[n] = (y_data[n] - y_data[n-1])/h            # backward\n",
    "    return dy_data"
   ]
  },
  {
   "cell_type": "code",
   "execution_count": 66,
   "metadata": {},
   "outputs": [],
   "source": [
    "def five_points(y_data: list, h: float) -> list:\n",
    "    \"\"\"\n",
    "    equispaced\n",
    "    x0 central point\n",
    "    \"\"\"\n",
    "    n = len(y_data) - 1\n",
    "    dy_data = np.zeros(n + 1)\n",
    "\n",
    "    for k in range(n - 3):\n",
    "        dy_data[k] = (-25*y_data[k] + 48*y_data[k+1] - 36*y_data[k+2] + 16*y_data[k+3] - 3*y_data[k+4])/(12*h)  # 5-points endpoint\n",
    "\n",
    "    dy_data[n-3] = (-3*y_data[n-4] - 10*y_data[n-3] + 18*y_data[n-2] - 6*y_data[n-1] + 3*y_data[n])/(12*h)      # 5-point \n",
    "    dy_data[n-2] = (y_data[n-4] - 8*y_data[n-3] + 8*y_data[n-1] - y_data[n])/(12*h) # 5-point center \n",
    "    dy_data[n-1] = 0.5*(y_data[n] - y_data[n-2])/h                                  # central\n",
    "    dy_data[n] = (y_data[n] - y_data[n-1])/h                                        # backward\n",
    "    return dy_data"
   ]
  },
  {
   "cell_type": "code",
   "execution_count": 67,
   "metadata": {},
   "outputs": [],
   "source": [
    "def second_derivative(y_data: list, h: float) -> list:\n",
    "    d2y_data = [0.5*(y_data[2] - 2*y_data[1] + y_data[0])/h**2]\n",
    "    n = len(y_data) - 1\n",
    "    for k in range(1, n):\n",
    "        d2y_data.append((y_data[k+1] - 2*y_data[k] + y_data[k-1])/h**2)\n",
    "    d2y_data.append(0.5*(y_data[n] - 2*y_data[n-1] + y_data[n-2])/h**2)\n",
    "    return d2y_data"
   ]
  },
  {
   "cell_type": "markdown",
   "metadata": {},
   "source": [
    "### Richardson Extrapolation\n",
    "$$\n",
    "G_{j}(h)=G_{j-1}\\left(\\frac{h}{2}\\right)+\\frac{G_{j-1}\\left(\\frac{h}{2}\\right)-G_{j-1}(h)}{4^{j-1}-1}\n",
    "$$"
   ]
  },
  {
   "cell_type": "code",
   "execution_count": 68,
   "metadata": {},
   "outputs": [
    {
     "data": {
      "text/html": [
       "<div>\n",
       "<style scoped>\n",
       "    .dataframe tbody tr th:only-of-type {\n",
       "        vertical-align: middle;\n",
       "    }\n",
       "\n",
       "    .dataframe tbody tr th {\n",
       "        vertical-align: top;\n",
       "    }\n",
       "\n",
       "    .dataframe thead th {\n",
       "        text-align: right;\n",
       "    }\n",
       "</style>\n",
       "<table border=\"1\" class=\"dataframe\">\n",
       "  <thead>\n",
       "    <tr style=\"text-align: right;\">\n",
       "      <th></th>\n",
       "      <th>G1</th>\n",
       "      <th>G2</th>\n",
       "      <th>G3</th>\n",
       "      <th>G4</th>\n",
       "      <th>G5</th>\n",
       "    </tr>\n",
       "  </thead>\n",
       "  <tbody>\n",
       "    <tr>\n",
       "      <th>0</th>\n",
       "      <td>-0.4154536051927038</td>\n",
       "      <td>0.0000000000000000</td>\n",
       "      <td>0.0000000000000000</td>\n",
       "      <td>0.0000000000000000</td>\n",
       "      <td>0.0000000000000000</td>\n",
       "    </tr>\n",
       "    <tr>\n",
       "      <th>1</th>\n",
       "      <td>-0.4159734637049384</td>\n",
       "      <td>-0.4161467498756832</td>\n",
       "      <td>0.0000000000000000</td>\n",
       "      <td>0.0000000000000000</td>\n",
       "      <td>0.0000000000000000</td>\n",
       "    </tr>\n",
       "    <tr>\n",
       "      <th>2</th>\n",
       "      <td>-0.4161034892729587</td>\n",
       "      <td>-0.4161468311289655</td>\n",
       "      <td>-0.4161468365458510</td>\n",
       "      <td>0.0000000000000000</td>\n",
       "      <td>0.0000000000000000</td>\n",
       "    </tr>\n",
       "    <tr>\n",
       "      <th>3</th>\n",
       "      <td>-0.4161359994746094</td>\n",
       "      <td>-0.4161468362084930</td>\n",
       "      <td>-0.4161468365471282</td>\n",
       "      <td>-0.4161468365471485</td>\n",
       "      <td>0.0000000000000000</td>\n",
       "    </tr>\n",
       "    <tr>\n",
       "      <th>4</th>\n",
       "      <td>-0.4161441272631361</td>\n",
       "      <td>-0.4161468365259783</td>\n",
       "      <td>-0.4161468365471440</td>\n",
       "      <td>-0.4161468365471443</td>\n",
       "      <td>-0.4161468365471443</td>\n",
       "    </tr>\n",
       "  </tbody>\n",
       "</table>\n",
       "</div>"
      ],
      "text/plain": [
       "                   G1                  G2                  G3  \\\n",
       "0 -0.4154536051927038  0.0000000000000000  0.0000000000000000   \n",
       "1 -0.4159734637049384 -0.4161467498756832  0.0000000000000000   \n",
       "2 -0.4161034892729587 -0.4161468311289655 -0.4161468365458510   \n",
       "3 -0.4161359994746094 -0.4161468362084930 -0.4161468365471282   \n",
       "4 -0.4161441272631361 -0.4161468365259783 -0.4161468365471440   \n",
       "\n",
       "                   G4                  G5  \n",
       "0  0.0000000000000000  0.0000000000000000  \n",
       "1  0.0000000000000000  0.0000000000000000  \n",
       "2  0.0000000000000000  0.0000000000000000  \n",
       "3 -0.4161468365471485  0.0000000000000000  \n",
       "4 -0.4161468365471443 -0.4161468365471443  "
      ]
     },
     "execution_count": 68,
     "metadata": {},
     "output_type": "execute_result"
    }
   ],
   "source": [
    "def richardson_extrapolation(f, x: float, n: int, h):\n",
    "    \"\"\"\n",
    "    Richardson extrapolation to wring more accuracy out of the method.\n",
    "    Return\n",
    "    ------\n",
    "    Table of approximation of derivatives\n",
    "    \"\"\"\n",
    "    G = np.zeros((n, n))\n",
    "    for i in range(n):\n",
    "        G[i, 0] = 0.5*(f(x + h) - f(x - h))/h\n",
    "        for j in range(1, i + 1):\n",
    "            G[i, j] = G[i, j-1] + (G[i, j-1] - G[i-1, j-1])/(4**j - 1) # j because exponent is 1 but position is 0\n",
    "        h = h/2\n",
    "    return G\n",
    "\n",
    "f = lambda x: np.sin(x)\n",
    "richardson = richardson_extrapolation(f, 2, 5, 0.1)\n",
    "pd.set_option(\"display.precision\", 16)\n",
    "pd.DataFrame(richardson, range(len(richardson[:, 0])), ['G1', 'G2', 'G3', 'G4', 'G5'])"
   ]
  },
  {
   "cell_type": "markdown",
   "metadata": {},
   "source": [
    "### Example"
   ]
  },
  {
   "cell_type": "code",
   "execution_count": 102,
   "metadata": {},
   "outputs": [
    {
     "data": {
      "image/png": "[encoded data removed]",
      "text/plain": [
       "<Figure size 432x720 with 2 Axes>"
      ]
     },
     "metadata": {
      "needs_background": "light"
     },
     "output_type": "display_data"
    }
   ],
   "source": [
    "x_data = np.array([0, 1, 2, 3, 4])\n",
    "y_data = np.array([75, 69.9, 65.3, 61, 57.4])\n",
    "\n",
    "h = x_data[1] - x_data[0]\n",
    "\n",
    "# dy = taylor_order2(y_data[:-1], h) # OK\n",
    "# dy = taylor_order4(y_data, h) # OK\n",
    "dy = three_points(y_data, h) # OK\n",
    "d2y = second_derivative(y_data, h) # OK\n",
    "\n",
    "fig, (ax1, ax2) = plt.subplots(2, 1)\n",
    "fig.set_figheight(10)\n",
    "\n",
    "ax1.title.set_text('First Derivative')\n",
    "ax1.plot(x_data, dy)\n",
    "ax1.grid(True)\n",
    "ax1.set_xlabel(\"X\")\n",
    "ax1.set_ylabel(\"Y\")\n",
    "\n",
    "ax2.title.set_text('Second Derivative')\n",
    "ax2.plot(x_data, d2y)\n",
    "ax2.grid(True)\n",
    "ax2.set_xlabel(\"X\")\n",
    "ax2.set_ylabel(\"Y\")\n",
    "plt.show()"
   ]
  },
  {
   "cell_type": "markdown",
   "metadata": {},
   "source": [
    "### Practica Calificada 3, Pregunta 1\n",
    "$$f'(x) = \\frac{f(x+h)-f(x-h)}{2h}$$"
   ]
  },
  {
   "cell_type": "code",
   "execution_count": 144,
   "metadata": {},
   "outputs": [
    {
     "name": "stdout",
     "output_type": "stream",
     "text": [
      "n=1 f'(x)=0.978435 error=0.0016315778412415716\n",
      "n=2 f'(x)=0.98005 error=1.6577841241649516e-05\n",
      "n=3 f'(x)=0.98 error=6.657784124164401e-05\n",
      "n=4 f'(x)=0.98 error=6.657784124164401e-05\n",
      "n=5 f'(x)=0.95 error=0.03006657784124167\n"
     ]
    }
   ],
   "source": [
    "N = 6\n",
    "f = lambda x: round(np.sin(x), N)\n",
    "df = lambda x: np.cos(x)\n",
    "exact = df(0.2)\n",
    "\n",
    "def central_derivative(f, x, h):\n",
    "    return (f(x + h) - f(x - h))/(2*h)\n",
    "\n",
    "for i in range(1, 6):\n",
    "    h = 0.1**i\n",
    "    derivative = round(central_derivative(f, 0.2, h), N)\n",
    "    print(f\"n={i} f'(x)={derivative} error={abs(exact - derivative)}\")"
   ]
  }
 ],
 "metadata": {
  "kernelspec": {
   "display_name": "Python 3",
   "language": "python",
   "name": "python3"
  },
  "language_info": {
   "codemirror_mode": {
    "name": "ipython",
    "version": 3
   },
   "file_extension": ".py",
   "mimetype": "text/x-python",
   "name": "python",
   "nbconvert_exporter": "python",
   "pygments_lexer": "ipython3",
   "version": "3.8.5"
  }
 },
 "nbformat": 4,
 "nbformat_minor": 4
}
