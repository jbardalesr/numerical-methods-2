{
 "cells": [
  {
   "cell_type": "code",
   "execution_count": 37,
   "metadata": {},
   "outputs": [],
   "source": [
    "import numpy as np\n",
    "import matplotlib.pyplot as plt\n",
    "from scipy.linalg import cho_factor, cho_solve\n",
    "import sympy as sp"
   ]
  },
  {
   "cell_type": "code",
   "execution_count": 123,
   "metadata": {},
   "outputs": [],
   "source": [
    "def coeff_linear(x_data, y_data):\n",
    "    n = len(x_data)\n",
    "    M = np.ones((n, 2))\n",
    "    M[:, 1] = x_data[:]\n",
    "\n",
    "    A = M.T@M\n",
    "    b = M.T@y_data\n",
    "    # print(M)\n",
    "    # print(y_data)\n",
    "    # print(A, b)\n",
    "    coeff = cho_solve(cho_factor(A), b)\n",
    "    return coeff\n",
    "\n",
    "def coeff_linear_spline(x_data, y_data, c):\n",
    "    n = len(x_data)\n",
    "    M = np.ones((n, 3))\n",
    "    M[:, 1] = x_data[:]\n",
    "\n",
    "    A = M.T@M\n",
    "    b = M.T@y_data\n",
    "\n",
    "    for i in range(n):\n",
    "        if x_data[i] < c:\n",
    "            M[i, 2] = 0\n",
    "        else:\n",
    "            M[i, 2] = 1\n",
    "\n",
    "    A = M.T@M\n",
    "    b = M.T@y_data\n",
    "\n",
    "    coeff = cho_solve(cho_factor(A), b)\n",
    "    return coeff"
   ]
  },
  {
   "cell_type": "markdown",
   "metadata": {},
   "source": [
    "### Linear"
   ]
  },
  {
   "cell_type": "code",
   "execution_count": 22,
   "metadata": {},
   "outputs": [],
   "source": [
    "def linear_fit(a, x):\n",
    "    \"\"\"\n",
    "    phi(x) = a0 + a1x\n",
    "    \"\"\"\n",
    "    return np.dot(a, [1, x])\n",
    "\n",
    "def linear_spline_fit(a, x, c):\n",
    "    \"\"\"\n",
    "    phi(x) = a0 + a1x + a2(x - c)\n",
    "    \"\"\"\n",
    "    return np.dot(a, [1, x, 0])"
   ]
  },
  {
   "cell_type": "markdown",
   "metadata": {},
   "source": [
    "### NonLinear"
   ]
  },
  {
   "cell_type": "code",
   "execution_count": 23,
   "metadata": {},
   "outputs": [],
   "source": [
    "def exponential_fit(A, x):\n",
    "    \"\"\"\n",
    "    y = ae^(xb) \n",
    "    ln(y) = ln(a) + b*x\n",
    "    Y = A + BX = A[0] + A[1]X\n",
    "    \"\"\"\n",
    "    a = np.e**A[0]\n",
    "    b = A[1]\n",
    "    # print(a, b)\n",
    "    return a*np.e**(b*x)\n",
    "\n",
    "def polynomial_fit(A, x):\n",
    "    \"\"\"\n",
    "    y = ax^b \n",
    "    ln(y) = ln(a) + b *ln(x)\n",
    "    Y = A + BX = A[0] + A[1]X\n",
    "    \"\"\"\n",
    "    a = np.e**A[0]\n",
    "    b = A[1]\n",
    "    return a*x**b\n",
    "\n",
    "def rational_fit(A, x):\n",
    "    \"\"\"\n",
    "    y = 1/(a + bx)\n",
    "    z = a + bx, where z = 1/y \n",
    "    \"\"\"\n",
    "    return 1/(A[0] + A[1]*x)"
   ]
  },
  {
   "cell_type": "markdown",
   "metadata": {},
   "source": [
    "### Error\n",
    "$$\n",
    "E=\\sqrt{\\frac{\\sum_{i=1}^{N}\\left(y_{i}-\\varphi\\left(x_{i}\\right)\\right)^{2}}{N}}\n",
    "$$"
   ]
  },
  {
   "cell_type": "code",
   "execution_count": 121,
   "metadata": {},
   "outputs": [],
   "source": [
    "def error(phi: \"sympy function\", x, x_data, y_data):\n",
    "    n = len(x_data)\n",
    "    E = 0.0\n",
    "    for i in range(n):\n",
    "        E += (y_data[i] - phi.subs(x, x_data[i]))**2\n",
    "    E = (E/n)**0.5\n",
    "    return E"
   ]
  },
  {
   "cell_type": "markdown",
   "metadata": {},
   "source": [
    "### Linear and NonLinear Fit"
   ]
  },
  {
   "cell_type": "code",
   "execution_count": 137,
   "metadata": {},
   "outputs": [],
   "source": [
    "x_data = np.array([500, 700, 900, 1100, 1300, 1500, 1700, 1900.0])\n",
    "y_data = np.array([365, 361.6, 370.64, 379.68, 384.46, 395.5, 395.95, 397])\n",
    "\n",
    "coeff_lin = coeff_linear(x_data, y_data)\n",
    "\n",
    "coeff_exp = coeff_linear(x_data, np.log(y_data))\n",
    "coeff_pol = coeff_linear(np.log(x_data), np.log(y_data))\n",
    "coeff_rat = coeff_linear(x_data, 1/y_data)"
   ]
  },
  {
   "cell_type": "code",
   "execution_count": 138,
   "metadata": {},
   "outputs": [
    {
     "name": "stdout",
     "output_type": "stream",
     "text": [
      "Linear\n"
     ]
    },
    {
     "data": {
      "text/latex": [
       "$\\displaystyle 0.0282803571428574 x + 347.292321428571$"
      ],
      "text/plain": [
       "0.0282803571428574*x + 347.292321428571"
      ]
     },
     "execution_count": 138,
     "metadata": {},
     "output_type": "execute_result"
    }
   ],
   "source": [
    "a, b = coeff_lin[0], coeff_lin[1] \n",
    "x = sp.symbols('x')\n",
    "print(\"Linear\")\n",
    "p_lin = a + b*x\n",
    "p_lin"
   ]
  },
  {
   "cell_type": "code",
   "execution_count": 139,
   "metadata": {},
   "outputs": [
    {
     "name": "stdout",
     "output_type": "stream",
     "text": [
      "Exponential\n"
     ]
    },
    {
     "data": {
      "text/latex": [
       "$\\displaystyle 348.466271516682 e^{7.43624195452464 \\cdot 10^{-5} x}$"
      ],
      "text/plain": [
       "348.466271516682*exp(7.43624195452464e-5*x)"
      ]
     },
     "execution_count": 139,
     "metadata": {},
     "output_type": "execute_result"
    }
   ],
   "source": [
    "a, b = np.e**coeff_exp[0], coeff_exp[1] \n",
    "print(\"Exponential\")\n",
    "p_exp = a*sp.exp(b*x)\n",
    "p_exp"
   ]
  },
  {
   "cell_type": "code",
   "execution_count": 140,
   "metadata": {},
   "outputs": [
    {
     "name": "stdout",
     "output_type": "stream",
     "text": [
      "Polynomial\n"
     ]
    },
    {
     "data": {
      "text/latex": [
       "$\\displaystyle 220.612945852717 x^{0.0779932001255476}$"
      ],
      "text/plain": [
       "220.612945852717*x**0.0779932001255476"
      ]
     },
     "execution_count": 140,
     "metadata": {},
     "output_type": "execute_result"
    }
   ],
   "source": [
    "a, b = np.e**coeff_pol[0], coeff_pol[1] \n",
    "print(\"Polynomial\")\n",
    "p_pol = a*x**b\n",
    "p_pol"
   ]
  },
  {
   "cell_type": "code",
   "execution_count": 141,
   "metadata": {},
   "outputs": [
    {
     "name": "stdout",
     "output_type": "stream",
     "text": [
      "Rational\n"
     ]
    },
    {
     "data": {
      "text/latex": [
       "$\\displaystyle \\frac{1}{0.00286115665503447 - 1.95650921528253 \\cdot 10^{-7} x}$"
      ],
      "text/plain": [
       "1/(0.00286115665503447 - 1.95650921528253e-7*x)"
      ]
     },
     "execution_count": 141,
     "metadata": {},
     "output_type": "execute_result"
    }
   ],
   "source": [
    "a, b = coeff_rat[0], coeff_rat[1] \n",
    "print(\"Rational\")\n",
    "p_rat = 1/(a + b*x)\n",
    "p_rat"
   ]
  },
  {
   "cell_type": "markdown",
   "metadata": {},
   "source": [
    "### Plot"
   ]
  },
  {
   "cell_type": "code",
   "execution_count": 142,
   "metadata": {},
   "outputs": [
    {
     "name": "stdout",
     "output_type": "stream",
     "text": [
      "ERROR = 3.63222647249630\n"
     ]
    },
    {
     "data": {
      "image/png": "[encoded data removed]",
      "text/plain": [
       "<Figure size 432x288 with 1 Axes>"
      ]
     },
     "metadata": {
      "needs_background": "light"
     },
     "output_type": "display_data"
    }
   ],
   "source": [
    "# Session 03 Aproximation    \n",
    "x_interval = np.linspace(x_data[0], x_data[-1], 100)\n",
    "\n",
    "print(\"ERROR =\", error(p_rat, x, x_data, y_data))\n",
    "plt.scatter(x_data, y_data, facecolors='none', edgecolors='b')\n",
    "plt.plot(x_interval, [p_lin.subs(x, i) for i in x_interval])\n",
    "plt.plot(x_interval, [p_exp.subs(x, i).evalf() for i in x_interval])\n",
    "plt.plot(x_interval, [p_pol.subs(x, i) for i in x_interval])\n",
    "plt.plot(x_interval, [p_rat.subs(x, i) for i in x_interval])\n",
    "plt.title(\"Aproximation\")\n",
    "plt.xlabel(\"X\")\n",
    "plt.ylabel(\"Y\")\n",
    "plt.legend((\"Linear\", \"Exponential\",\"Polynomial\", \"Rational\", \"Nodes\"))\n",
    "plt.grid(True)\n",
    "plt.show()"
   ]
  },
  {
   "cell_type": "markdown",
   "metadata": {},
   "source": [
    "### Examen Parcial, Pregunta 4"
   ]
  },
  {
   "cell_type": "code",
   "execution_count": 143,
   "metadata": {},
   "outputs": [
    {
     "data": {
      "image/png": "[encoded data removed]",
      "text/plain": [
       "<Figure size 432x288 with 1 Axes>"
      ]
     },
     "metadata": {
      "needs_background": "light"
     },
     "output_type": "display_data"
    }
   ],
   "source": [
    "x_data = np.array([0.087266, 0.261799, 0.523599, 0.698132, 0.872665, 1.308997, 1.832596, 2.617994])\n",
    "y_data = np.array([800000, 20000, 800, 500, 107, 26, 8, 5.0])\n",
    "\n",
    "coeff_pol = coeff_linear(np.log(x_data), np.log(y_data))\n",
    "a, b = np.e**coeff_pol[0], coeff_pol[1] \n",
    "\n",
    "p_pol = a*x**b\n",
    "\n",
    "x_interval = np.linspace(x_data[0], x_data[-1], 100)\n",
    "\n",
    "plt.scatter(x_data, y_data, facecolors='none', edgecolors='b')\n",
    "plt.plot(x_interval, [p_pol.subs(x, i) for i in x_interval])\n",
    "plt.title(\"Aproximation Polynomial\")\n",
    "plt.xlabel(\"X\")\n",
    "plt.ylabel(\"Y\")\n",
    "plt.legend((sp.N(p_pol, 7), \"Nodes\"))\n",
    "plt.grid(True)\n",
    "plt.show()"
   ]
  }
 ],
 "metadata": {
  "kernelspec": {
   "display_name": "Python 3",
   "language": "python",
   "name": "python3"
  },
  "language_info": {
   "codemirror_mode": {
    "name": "ipython",
    "version": 3
   },
   "file_extension": ".py",
   "mimetype": "text/x-python",
   "name": "python",
   "nbconvert_exporter": "python",
   "pygments_lexer": "ipython3",
   "version": "3.8.5"
  }
 },
 "nbformat": 4,
 "nbformat_minor": 4
}
