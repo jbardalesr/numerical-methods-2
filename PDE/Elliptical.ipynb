{
 "cells": [
  {
   "cell_type": "code",
   "execution_count": 1,
   "metadata": {},
   "outputs": [],
   "source": [
    "import numpy as np\n",
    "import matplotlib.pyplot as plt\n",
    "import pandas as pd "
   ]
  },
  {
   "cell_type": "code",
   "execution_count": 2,
   "metadata": {},
   "outputs": [],
   "source": [
    "def print_table(u, index, columns):\n",
    "    pd.set_option(\"precision\", 12)\n",
    "    df = pd.DataFrame(data=u, index=index, columns=columns)\n",
    "    return df"
   ]
  },
  {
   "cell_type": "code",
   "execution_count": 5,
   "metadata": {},
   "outputs": [],
   "source": [
    "def uxa(y):\n",
    "    return 75\n",
    "\n",
    "def uxb(y):\n",
    "    return 50\n",
    "\n",
    "def uyc(x):\n",
    "    return 0\n",
    "\n",
    "def uyd(x):\n",
    "    return 100\n",
    "\n",
    "def boundary_conditions(uxa, uxb, xInterval, uyc, uyd, yInterval):\n",
    "    \"\"\"\n",
    "    uxa: bottom boundary in xInterval\n",
    "    uya, uyb: left and right boundary in yInterval\n",
    "    \"\"\"\n",
    "    ubottom = np.empty(0)\n",
    "    utop = np.empty(0)\n",
    "    uleft = np.empty(0)\n",
    "    uright = np.empty(0)\n",
    "\n",
    "    for x in xInterval:\n",
    "        ubottom = np.append(ubottom, uyc(x))\n",
    "        utop = np.append(utop, uyd(x))\n",
    "\n",
    "    for y in yInterval:\n",
    "        uleft = np.append(uleft, uxa(y))\n",
    "        uright = np.append(uright, uxb(y))\n",
    "\n",
    "    return ubottom, utop, uleft, uright\n",
    "\n",
    "def elliptical(uxa, uxb, xInterval, uyc, uyd, yInterval):\n",
    "    ubottom, utop, uleft, uright = boundary_conditions(\n",
    "        uxa, uxb, xInterval, uyc, uyd, yInterval)\n",
    "    m = len(uleft)\n",
    "    n = len(ubottom)\n",
    "\n",
    "    u = np.full((m, n), (0 + 75 + 100 + 50)/4)\n",
    "    u[0, :] = ubottom\n",
    "    u[-1, :] = utop\n",
    "    u[:, 0] = uleft\n",
    "    u[:, -1] = uright\n",
    "\n",
    "    print(\"Tabla inicial 0\")\n",
    "    print(print_table(u, range(len(u[:,0])), ['U0j', 'U1j','U2j','U3j', 'U4j']))\n",
    "\n",
    "    for j in range(1, 4):\n",
    "        for i in range(1, 4):\n",
    "            u[j,i] = (u[j,i-1] + u[j,i+1] + u[j-1,i] + u[j+1,i])/4\n",
    "    print(\"\\nIteracion 1\") \n",
    "    print(print_table(u, range(len(u[:,0])), ['U0j', 'U1j','U2j','U3j', 'U4j']))\n",
    "\n",
    "    for j in range(1, 4):\n",
    "        for i in range(1, 4):\n",
    "            u[j,i] = (u[j,i-1] + u[j,i+1] + u[j-1,i] + u[j+1,i])/4\n",
    "    print(\"\\nIteracion 2\")        \n",
    "    print(print_table(u, range(len(u[:,0])), ['U0j', 'U1j','U2j','U3j', 'U4j']))\n",
    "\n",
    "    for k in range(3, 51):\n",
    "        for j in range(1, 4):\n",
    "            for i in range(1, 4):\n",
    "                u[j,i] = (u[j,i-1] + u[j,i+1] + u[j-1,i] + u[j+1,i])/4\n",
    "    return u"
   ]
  },
  {
   "cell_type": "markdown",
   "metadata": {},
   "source": [
    "### Print"
   ]
  },
  {
   "cell_type": "code",
   "execution_count": 8,
   "metadata": {},
   "outputs": [
    {
     "name": "stdout",
     "output_type": "stream",
     "text": [
      "Tabla inicial 0\n",
      "    U0j     U1j     U2j     U3j   U4j\n",
      "0  75.0    0.00    0.00    0.00  50.0\n",
      "1  75.0   56.25   56.25   56.25  50.0\n",
      "2  75.0   56.25   56.25   56.25  50.0\n",
      "3  75.0   56.25   56.25   56.25  50.0\n",
      "4  75.0  100.00  100.00  100.00  50.0\n",
      "\n",
      "Iteracion 1\n",
      "    U0j          U1j            U2j             U3j   U4j\n",
      "0  75.0    0.0000000    0.000000000    0.0000000000  50.0\n",
      "1  75.0   46.8750000   39.843750000   36.5234375000  50.0\n",
      "2  75.0   58.5937500   52.734375000   48.8769531250  50.0\n",
      "3  75.0   72.4609375   70.361328125   67.3095703125  50.0\n",
      "4  75.0  100.0000000  100.000000000  100.0000000000  50.0\n",
      "\n",
      "Iteracion 2\n",
      "    U0j            U1j               U2j               U3j   U4j\n",
      "0  75.0    0.000000000    0.000000000000    0.000000000000  50.0\n",
      "1  75.0   43.359375000   33.154296875000   33.007812500000  50.0\n",
      "2  75.0   60.888671875   53.320312500000   50.909423828125  50.0\n",
      "3  75.0   76.562500000   74.298095703125   68.801879882812  50.0\n",
      "4  75.0  100.000000000  100.000000000000  100.000000000000  50.0\n",
      "...\n",
      "Iteracion 50\n",
      "    U0j               U1j               U2j               U3j   U4j\n",
      "0  75.0    0.000000000000    0.000000000000    0.000000000000  50.0\n",
      "1  75.0   42.857142857143   33.258928571429   33.928571428571  50.0\n",
      "2  75.0   63.169642857143   56.250000000000   52.455357142857  50.0\n",
      "3  75.0   78.571428571429   76.116071428571   69.642857142857  50.0\n",
      "4  75.0  100.000000000000  100.000000000000  100.000000000000  50.0\n"
     ]
    }
   ],
   "source": [
    "xa, xb = 0, 4\n",
    "Δx = 1\n",
    "\n",
    "ya, yb = 0, 4\n",
    "Δy = 1\n",
    "\n",
    "xInterval = np.arange(xa, xb + Δx, Δx)\n",
    "yInterval = np.arange(ya, yb + Δy, Δy)\n",
    "u = elliptical(uxa, uxb, xInterval, uyc, uyd, yInterval)\n",
    "print(\"...\")\n",
    "print(\"Iteracion 50\")\n",
    "print(print_table(u, range(len(u[:,0])), ['U0j', 'U1j','U2j','U3j', 'U4j']))"
   ]
  },
  {
   "cell_type": "markdown",
   "metadata": {},
   "source": [
    "### Plot"
   ]
  },
  {
   "cell_type": "code",
   "execution_count": 4,
   "metadata": {},
   "outputs": [
    {
     "data": {
      "image/png": "[encoded data removed]",
      "text/plain": [
       "<Figure size 432x288 with 1 Axes>"
      ]
     },
     "metadata": {
      "needs_background": "light"
     },
     "output_type": "display_data"
    }
   ],
   "source": [
    "X1, X2 = np.meshgrid(xInterval, yInterval, sparse=True)\n",
    "Z = np.copy(u)\n",
    "\n",
    "fig = plt.figure()\n",
    "ax = plt.axes(projection='3d')\n",
    "\n",
    "ax.plot_surface(X1, X2, Z, edgecolor='none', cmap='plasma')\n",
    "ax.view_init(10, 210)\n",
    "ax.set_xlabel('x')\n",
    "ax.set_ylabel('y')\n",
    "ax.set_zlabel('z')\n",
    "ax.set_title('Placa rectangular')\n",
    "plt.show()"
   ]
  }
 ],
 "metadata": {
  "kernelspec": {
   "display_name": "Python 3",
   "language": "python",
   "name": "python3"
  },
  "language_info": {
   "codemirror_mode": {
    "name": "ipython",
    "version": 3
   },
   "file_extension": ".py",
   "mimetype": "text/x-python",
   "name": "python",
   "nbconvert_exporter": "python",
   "pygments_lexer": "ipython3",
   "version": "3.8.5"
  }
 },
 "nbformat": 4,
 "nbformat_minor": 4
}
