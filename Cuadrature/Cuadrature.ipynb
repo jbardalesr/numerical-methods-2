{
 "cells": [
  {
   "cell_type": "code",
   "execution_count": 76,
   "metadata": {},
   "outputs": [],
   "source": [
    "import numpy as np\n",
    "import sympy as sp\n",
    "import pandas as pd\n",
    "import math "
   ]
  },
  {
   "cell_type": "markdown",
   "metadata": {},
   "source": [
    "### Function"
   ]
  },
  {
   "cell_type": "code",
   "execution_count": 2,
   "metadata": {},
   "outputs": [],
   "source": [
    "def gauss_legendre(n: int, x):\n",
    "    if n == 0:\n",
    "        return 1\n",
    "    elif n == 1:\n",
    "        return x\n",
    "    else:\n",
    "        return (2*n - 1)/n*x*gauss_legendre(n - 1, x) - (n - 1)/n*gauss_legendre(n - 2, x)\n",
    "\n",
    "def gauss_laguerre(n: int, x):\n",
    "    if n == 0:\n",
    "        return 1\n",
    "    elif n == 1:\n",
    "        return 1 - x\n",
    "    else:\n",
    "        return (2*(n - 1) + 1 - x)*gauss_laguerre(n - 1, x) - (n - 1)**2*gauss_laguerre(n - 2, x)\n",
    "\n",
    "def gauss_chebyshev(n: int, x):\n",
    "    if n == 0:\n",
    "        return 1\n",
    "    elif n == 1:\n",
    "        return x\n",
    "    else:\n",
    "        return 2*x*gauss_chebyshev(n - 1, x) - gauss_chebyshev(n - 2, x)\n",
    "\n",
    "def gauss_hermite(n: int, x):\n",
    "    if n == 0:\n",
    "        return 1\n",
    "    elif n == 1:\n",
    "        return 2*x\n",
    "    else:\n",
    "        return 2*x*gauss_hermite(n - 1, x) - 2*(n - 1)*gauss_hermite(n - 2, x)"
   ]
  },
  {
   "cell_type": "markdown",
   "metadata": {},
   "source": [
    "### 4-th Polynomial"
   ]
  },
  {
   "cell_type": "code",
   "execution_count": 14,
   "metadata": {},
   "outputs": [
    {
     "name": "stdout",
     "output_type": "stream",
     "text": [
      "Gauss-Legendre: g4(z)\n"
     ]
    },
    {
     "data": {
      "text/latex": [
       "$\\displaystyle 4.375 z^{4} - 3.75 z^{2} + 0.375$"
      ],
      "text/plain": [
       "4.375*z**4 - 3.75*z**2 + 0.375"
      ]
     },
     "execution_count": 14,
     "metadata": {},
     "output_type": "execute_result"
    }
   ],
   "source": [
    "z = sp.symbols('z')\n",
    "print(\"Gauss-Legendre: g4(z)\")\n",
    "sp.expand(gauss_legendre(4, z))"
   ]
  },
  {
   "cell_type": "code",
   "execution_count": 16,
   "metadata": {},
   "outputs": [
    {
     "name": "stdout",
     "output_type": "stream",
     "text": [
      "Gauss-Laguerre: L4(x)\n"
     ]
    },
    {
     "data": {
      "text/latex": [
       "$\\displaystyle x^{4} - 16 x^{3} + 72 x^{2} - 96 x + 24$"
      ],
      "text/plain": [
       "x**4 - 16*x**3 + 72*x**2 - 96*x + 24"
      ]
     },
     "execution_count": 16,
     "metadata": {},
     "output_type": "execute_result"
    }
   ],
   "source": [
    "x = sp.symbols('x')\n",
    "print(\"Gauss-Laguerre: L4(x)\")\n",
    "sp.expand(gauss_laguerre(4, x))"
   ]
  },
  {
   "cell_type": "code",
   "execution_count": 17,
   "metadata": {},
   "outputs": [
    {
     "name": "stdout",
     "output_type": "stream",
     "text": [
      "Gauss-Chebyshev: T4(x)\n"
     ]
    },
    {
     "data": {
      "text/latex": [
       "$\\displaystyle 8 x^{4} - 8 x^{2} + 1$"
      ],
      "text/plain": [
       "8*x**4 - 8*x**2 + 1"
      ]
     },
     "execution_count": 17,
     "metadata": {},
     "output_type": "execute_result"
    }
   ],
   "source": [
    "x = sp.symbols('x')\n",
    "print(\"Gauss-Chebyshev: T4(x)\")\n",
    "sp.expand(gauss_chebyshev(4, x))"
   ]
  },
  {
   "cell_type": "code",
   "execution_count": 19,
   "metadata": {},
   "outputs": [
    {
     "name": "stdout",
     "output_type": "stream",
     "text": [
      "Gauss-Hermite: H4(t)\n"
     ]
    },
    {
     "data": {
      "text/latex": [
       "$\\displaystyle 16 t^{4} - 48 t^{2} + 12$"
      ],
      "text/plain": [
       "16*t**4 - 48*t**2 + 12"
      ]
     },
     "execution_count": 19,
     "metadata": {},
     "output_type": "execute_result"
    }
   ],
   "source": [
    "t = sp.symbols('t')\n",
    "print(\"Gauss-Hermite: H4(t)\")\n",
    "sp.expand(gauss_hermite(4, t))"
   ]
  },
  {
   "cell_type": "markdown",
   "metadata": {},
   "source": [
    "### Zeros"
   ]
  },
  {
   "cell_type": "code",
   "execution_count": 23,
   "metadata": {},
   "outputs": [],
   "source": [
    "from numpy.polynomial.legendre import leggauss\n",
    "from numpy.polynomial.laguerre import laggauss\n",
    "from numpy.polynomial.hermite import hermgauss"
   ]
  },
  {
   "cell_type": "markdown",
   "metadata": {},
   "source": [
    "### Gauss-Legendre\n",
    "$W(x)=1, x \\in \\left[-1, 1\\right]$\n",
    "Basado en los polinomios de Legendre, los cuales son ortogonales en $\\left[-1, 1\\right]$ con respecto a la function de peso $W(x)$.\n",
    "\n",
    "La formula de integracion de Gauss-Legendre de $n$ puntos viene dado por:\n",
    "\n",
    "\\begin{align}\n",
    "    \\int_{-1}^1f(x)dx = \\sum_{i=1}^n w_i f(z_i)\n",
    "\\end{align}\n",
    "Para cualquier intervalo $\\left[a, b\\right]$\n",
    "\\begin{align}\n",
    "    \\int_{a}^b f(x)dx = \\frac{b - a}{2} \\sum_{i=1}^n w_i f\\left(\\frac{b + a}{2} + \\frac{b - a}{2}z_i\\right)\n",
    "\\end{align}\n",
    "Donde $z_i$ son las raices del polinomio de Legendre de grado $n$ y $w_i$ los pesos."
   ]
  },
  {
   "cell_type": "code",
   "execution_count": 28,
   "metadata": {},
   "outputs": [
    {
     "data": {
      "text/plain": [
       "2.2222222222222223"
      ]
     },
     "execution_count": 28,
     "metadata": {},
     "output_type": "execute_result"
    }
   ],
   "source": [
    "n = 2\n",
    "z, weight =  leggauss(n)\n",
    "f = lambda x: x**4 + x + 1\n",
    "integrate = np.dot(weight, f(z))\n",
    "integrate"
   ]
  },
  {
   "cell_type": "markdown",
   "metadata": {},
   "source": [
    "#### Error in Gauss-Legendre\n",
    "\\begin{align}\n",
    "    \\varepsilon_n = \\frac{2^{2n + 1}(n!)^4}{(2n + 1)((2n)!)^3}f^{(2n)}(c), c \\in \\left[-1, 1\\right]\n",
    "\\end{align}"
   ]
  },
  {
   "cell_type": "code",
   "execution_count": 27,
   "metadata": {},
   "outputs": [
    {
     "data": {
      "text/plain": [
       "0.037037037037037035"
      ]
     },
     "execution_count": 27,
     "metadata": {},
     "output_type": "execute_result"
    }
   ],
   "source": [
    "d2nf = 5\n",
    "eps = 2**(2*n + 1)*(math.factorial(n)**4)/((2*n + 1)*(math.factorial(2*n)**3))*d2nf\n",
    "eps"
   ]
  },
  {
   "cell_type": "markdown",
   "metadata": {},
   "source": [
    "### Gauss-Laguerre\n",
    "$W(x)=e^{-x}, x \\in \\left(0, \\infty\\right)$\n",
    "Basado en los polinomios de Legendre, los cuales son ortogonales en $\\left(0, \\infty\\right)$ con respecto a la function de peso $W(x)$.\n",
    "\n",
    "La formula de integracion de Gauss-Laguerre de $n$ puntos viene dado por:\n",
    "\n",
    "\\begin{align}\n",
    "    \\int_{0}^{\\infty}e^{-x}f(x)dx = \\sum_{i=1}^n w_i f(z_i)\n",
    "\\end{align}\n",
    "Para el intervalo $\\left[a, \\infty\\right]$\n",
    "\\begin{align}\n",
    "    \\int_{a}^{\\infty}e^{-x} f(x)dx =  \\sum_{i=1}^{n}w_i e^{z_i} f(a + z_i)\n",
    "\\end{align}\n",
    "Donde $z_i$ son las raices del polinomio de Lagerre de grado $n$ y $w_i$ los pesos."
   ]
  },
  {
   "cell_type": "code",
   "execution_count": 39,
   "metadata": {},
   "outputs": [
    {
     "data": {
      "text/plain": [
       "0.8414709848078965"
      ]
     },
     "execution_count": 39,
     "metadata": {},
     "output_type": "execute_result"
    }
   ],
   "source": [
    "# Gauss-Laguerre\n",
    "n = 1 # n >= 2\n",
    "z, weight = laggauss(n) \n",
    "f = lambda x: np.sin(x)\n",
    "integral = np.dot(weight, f(z))\n",
    "integral"
   ]
  },
  {
   "cell_type": "markdown",
   "metadata": {},
   "source": [
    "#### Error in Gauss-Laguerre\n",
    "\\begin{align}\n",
    "    \\varepsilon_n = \\frac{(n!)^2}{(2n)!}f^{(2n)}(c), c \\in \\left(0, \\infty\\right)\n",
    "\\end{align}"
   ]
  },
  {
   "cell_type": "code",
   "execution_count": 40,
   "metadata": {},
   "outputs": [
    {
     "data": {
      "text/plain": [
       "2.5"
      ]
     },
     "execution_count": 40,
     "metadata": {},
     "output_type": "execute_result"
    }
   ],
   "source": [
    "d2nf = 5\n",
    "eps = math.factorial(n)**2/math.factorial(2*n)*d2nf\n",
    "eps"
   ]
  },
  {
   "cell_type": "markdown",
   "metadata": {},
   "source": [
    "### Gauss-Chebyshev\n",
    "$W(x)=\\frac{1}{\\sqrt{1  x^2}}, x \\in \\left[-1, 1\\right]$\n",
    "Basado en los polinomios de Chebyshev, los cuales son ortogonales en $\\left[-1, 1\\right]$ con respecto a la function de peso $W(x)$.\n",
    "\n",
    "La formula de integracion de Gauss-Chebyshev de $n$ puntos viene dado por:\n",
    "\n",
    "\\begin{align}\n",
    "    \\int_{-1}^1 \\frac{1}{\\sqrt{1 - x^2}} f(x)dx = \\sum_{i=1}^n w_i f(z_i)\n",
    "\\end{align}\n",
    "Donde $z_i$ son las raices del polinomio de Chebyshev de grado $n$ y $w_i$ los pesos."
   ]
  },
  {
   "cell_type": "code",
   "execution_count": 44,
   "metadata": {},
   "outputs": [
    {
     "data": {
      "text/plain": [
       "3.9982378901098437"
      ]
     },
     "execution_count": 44,
     "metadata": {},
     "output_type": "execute_result"
    }
   ],
   "source": [
    "# Gauss-Chebyshev, case 1\n",
    "n = 2\n",
    "roots, weight = np.array([np.cos((i - 0.5)*np.pi/n) for i in range(n, 0, -1)]), np.array([np.pi/n]*n)\n",
    "f = lambda x: (x**12 - x + 3)*np.sin(x)**2\n",
    "integral =  np.dot(weight, f(roots))\n",
    "integral"
   ]
  },
  {
   "cell_type": "markdown",
   "metadata": {},
   "source": [
    "#### Error in Gauss-Chebyshev\n",
    "\\begin{align}\n",
    "    \\varepsilon_n = \\frac{f^{(2n)}(c)}{2^{2n - 1}(2n)!}\\pi, c \\in \\left[-1, 1\\right]\n",
    "\\end{align}"
   ]
  },
  {
   "cell_type": "code",
   "execution_count": 43,
   "metadata": {},
   "outputs": [
    {
     "data": {
      "text/plain": [
       "0.0818123086872342"
      ]
     },
     "execution_count": 43,
     "metadata": {},
     "output_type": "execute_result"
    }
   ],
   "source": [
    "d2nf = 5\n",
    "eps = d2nf*math.pi/(2**(2*n - 1)*math.factorial(2*n))\n",
    "eps"
   ]
  },
  {
   "cell_type": "markdown",
   "metadata": {},
   "source": [
    "### Gauss-Hermite\n",
    "$W(x)=e^{-x^2}, x \\in \\left(-\\infty, \\infty\\right)$\n",
    "\n",
    "La formula de integracion de Gauss-Hermite de $n$ puntos viene dado por:\n",
    "\\begin{align}\n",
    "    \\int_{-\\infty}^{\\infty} e^{-x^2} f(x)dx = \\sum_{i=1}^n w_i f(z_i)\n",
    "\\end{align}"
   ]
  },
  {
   "cell_type": "code",
   "execution_count": 45,
   "metadata": {},
   "outputs": [
    {
     "name": "stdout",
     "output_type": "stream",
     "text": [
      "\n"
     ]
    },
    {
     "data": {
      "text/plain": [
       "0.5602022602033234"
      ]
     },
     "execution_count": 45,
     "metadata": {},
     "output_type": "execute_result"
    }
   ],
   "source": [
    "# Gauss-Hermite\n",
    "n = 10\n",
    "roots, weight = hermgauss(n)\n",
    "print()\n",
    "f = lambda x: np.sin(x)**2\n",
    "# integrate of e^(-x^2)*f(x) from -Inf to Inf\n",
    "integral = np.dot(weight, f(roots))\n",
    "integral"
   ]
  },
  {
   "cell_type": "markdown",
   "metadata": {},
   "source": [
    "#### Error in Gauss-Hermite\n",
    "\\begin{align}\n",
    "    \\varepsilon_n = \\frac{n!\\sqrt{\\pi}}{2^{n}(2n)!}f^{(2n)}(c), c \\in \\left(-\\infty, \\infty\\right)\n",
    "\\end{align}"
   ]
  },
  {
   "cell_type": "code",
   "execution_count": 47,
   "metadata": {},
   "outputs": [
    {
     "data": {
      "text/plain": [
       "1.2908726518857767e-14"
      ]
     },
     "execution_count": 47,
     "metadata": {},
     "output_type": "execute_result"
    }
   ],
   "source": [
    "d2nf = 5\n",
    "eps = math.factorial(n)*np.pi**0.5/(2**n*math.factorial(2*n))*d2nf\n",
    "eps"
   ]
  },
  {
   "cell_type": "markdown",
   "metadata": {},
   "source": [
    "### Examen parcial, Pregunta 5.a: Lagrange"
   ]
  },
  {
   "cell_type": "code",
   "execution_count": 84,
   "metadata": {},
   "outputs": [
    {
     "name": "stdout",
     "output_type": "stream",
     "text": [
      "Integral = 1471.6422819903378\n"
     ]
    },
    {
     "data": {
      "text/html": [
       "<div>\n",
       "<style scoped>\n",
       "    .dataframe tbody tr th:only-of-type {\n",
       "        vertical-align: middle;\n",
       "    }\n",
       "\n",
       "    .dataframe tbody tr th {\n",
       "        vertical-align: top;\n",
       "    }\n",
       "\n",
       "    .dataframe thead th {\n",
       "        text-align: right;\n",
       "    }\n",
       "</style>\n",
       "<table border=\"1\" class=\"dataframe\">\n",
       "  <thead>\n",
       "    <tr style=\"text-align: right;\">\n",
       "      <th></th>\n",
       "      <th>zi</th>\n",
       "      <th>wi</th>\n",
       "      <th>15 + 15zi</th>\n",
       "      <th>f(15 + 15zi)</th>\n",
       "    </tr>\n",
       "  </thead>\n",
       "  <tbody>\n",
       "    <tr>\n",
       "      <th>0</th>\n",
       "      <td>-0.861136312</td>\n",
       "      <td>0.347854845</td>\n",
       "      <td>2.082955326</td>\n",
       "      <td>47.902141261</td>\n",
       "    </tr>\n",
       "    <tr>\n",
       "      <th>1</th>\n",
       "      <td>-0.339981044</td>\n",
       "      <td>0.652145155</td>\n",
       "      <td>9.900284346</td>\n",
       "      <td>68.899210625</td>\n",
       "    </tr>\n",
       "    <tr>\n",
       "      <th>2</th>\n",
       "      <td>0.339981044</td>\n",
       "      <td>0.652145155</td>\n",
       "      <td>20.099715654</td>\n",
       "      <td>41.926623715</td>\n",
       "    </tr>\n",
       "    <tr>\n",
       "      <th>3</th>\n",
       "      <td>0.861136312</td>\n",
       "      <td>0.347854845</td>\n",
       "      <td>27.917044674</td>\n",
       "      <td>26.367212549</td>\n",
       "    </tr>\n",
       "  </tbody>\n",
       "</table>\n",
       "</div>"
      ],
      "text/plain": [
       "            zi           wi     15 + 15zi  f(15 + 15zi)\n",
       "0 -0.861136312  0.347854845   2.082955326  47.902141261\n",
       "1 -0.339981044  0.652145155   9.900284346  68.899210625\n",
       "2  0.339981044  0.652145155  20.099715654  41.926623715\n",
       "3  0.861136312  0.347854845  27.917044674  26.367212549"
      ]
     },
     "execution_count": 84,
     "metadata": {},
     "output_type": "execute_result"
    }
   ],
   "source": [
    "def legendre(x, x_data, y_data):\n",
    "    \"\"\"\n",
    "    Return the interpolation polynomial\n",
    "    \"\"\"\n",
    "    n = len(x_data)\n",
    "    q = 0\n",
    "    for k in range(n):\n",
    "        p = 1\n",
    "        for j in range(n):\n",
    "            if k != j:\n",
    "                p *= (x - x_data[j])/(x_data[k] - x_data[j])\n",
    "        q += y_data[k]*p\n",
    "    return q\n",
    "\n",
    "x_data = np.array([0, 3, 6, 9, 12, 15, 18, 21, 24, 27, 30.0])\n",
    "y_data = np.array([0, 61.40, 73.13, 70.56, 63.43, 55.18, 47.10, 39.83, 33.42, 27.89, 23.20])\n",
    "\n",
    "x = sp.symbols('x')\n",
    "f = legendre(x, x_data[0:3], y_data[0:3])\n",
    "\n",
    "z, weight =  leggauss(4)\n",
    "\n",
    "table = np.zeros((len(z), 4))\n",
    "table[:, 0] = z\n",
    "table[:, 1] = weight\n",
    "table[:, 2] = 15 + 15*z\n",
    "\n",
    "f1 = legendre(x, x_data[:3], y_data[:3])\n",
    "f2 = legendre(x, x_data[2:5], y_data[2:5])\n",
    "f3 = legendre(x, x_data[5:8], y_data[5:8])\n",
    "f4 = legendre(x, x_data[8:], y_data[8:])\n",
    "\n",
    "table[0, 3] = f1.subs(x, table[0, 2])\n",
    "table[1, 3] = f2.subs(x, table[1, 2])\n",
    "table[2, 3] = f3.subs(x, table[2, 2])\n",
    "table[3, 3] = f4.subs(x, table[3, 2])\n",
    "\n",
    "print(\"Integral =\", table[:, 1]@table[:, 3]*15)\n",
    "pd.set_option(\"display.precision\", 9)\n",
    "pd.DataFrame(table, range(len(z)), [\"zi\", \"wi\", \"15 + 15zi\", \"f(15 + 15zi)\"])"
   ]
  },
  {
   "cell_type": "markdown",
   "metadata": {},
   "source": [
    "### Examen parcial, Pregunta 5.b: Newton"
   ]
  },
  {
   "cell_type": "code",
   "execution_count": 100,
   "metadata": {},
   "outputs": [
    {
     "name": "stdout",
     "output_type": "stream",
     "text": [
      "   f(x[i])          f[;]        f[;;]\n",
      "0     0.00   0.000000000  0.000000000\n",
      "1    61.40  20.466666667  0.000000000\n",
      "2    73.13   3.910000000 -2.759444444\n",
      "   f(x[i])         f[;]        f[;;]\n",
      "0    73.13  0.000000000  0.000000000\n",
      "1    70.56 -0.856666667  0.000000000\n",
      "2    63.43 -2.376666667 -0.253333333\n",
      "   f(x[i])         f[;]  f[;;]\n",
      "0    55.18  0.000000000  0.000\n",
      "1    47.10 -2.693333333  0.000\n",
      "2    39.83 -2.423333333  0.045\n",
      "   f(x[i])         f[;]        f[;;]\n",
      "0    33.42  0.000000000  0.000000000\n",
      "1    27.89 -1.843333333  0.000000000\n",
      "2    23.20 -1.563333333  0.046666667\n"
     ]
    },
    {
     "data": {
      "text/html": [
       "<div>\n",
       "<style scoped>\n",
       "    .dataframe tbody tr th:only-of-type {\n",
       "        vertical-align: middle;\n",
       "    }\n",
       "\n",
       "    .dataframe tbody tr th {\n",
       "        vertical-align: top;\n",
       "    }\n",
       "\n",
       "    .dataframe thead th {\n",
       "        text-align: right;\n",
       "    }\n",
       "</style>\n",
       "<table border=\"1\" class=\"dataframe\">\n",
       "  <thead>\n",
       "    <tr style=\"text-align: right;\">\n",
       "      <th></th>\n",
       "      <th>zi</th>\n",
       "      <th>wi</th>\n",
       "      <th>15 + 15zi</th>\n",
       "      <th>f(15 + 15zi)</th>\n",
       "    </tr>\n",
       "  </thead>\n",
       "  <tbody>\n",
       "    <tr>\n",
       "      <th>0</th>\n",
       "      <td>-0.861136312</td>\n",
       "      <td>0.347854845</td>\n",
       "      <td>2.082955326</td>\n",
       "      <td>47.902141261</td>\n",
       "    </tr>\n",
       "    <tr>\n",
       "      <th>1</th>\n",
       "      <td>-0.339981044</td>\n",
       "      <td>0.652145155</td>\n",
       "      <td>9.900284346</td>\n",
       "      <td>68.899210625</td>\n",
       "    </tr>\n",
       "    <tr>\n",
       "      <th>2</th>\n",
       "      <td>0.339981044</td>\n",
       "      <td>0.652145155</td>\n",
       "      <td>20.099715654</td>\n",
       "      <td>41.926623715</td>\n",
       "    </tr>\n",
       "    <tr>\n",
       "      <th>3</th>\n",
       "      <td>0.861136312</td>\n",
       "      <td>0.347854845</td>\n",
       "      <td>27.917044674</td>\n",
       "      <td>26.367212549</td>\n",
       "    </tr>\n",
       "  </tbody>\n",
       "</table>\n",
       "</div>"
      ],
      "text/plain": [
       "            zi           wi     15 + 15zi  f(15 + 15zi)\n",
       "0 -0.861136312  0.347854845   2.082955326  47.902141261\n",
       "1 -0.339981044  0.652145155   9.900284346  68.899210625\n",
       "2  0.339981044  0.652145155  20.099715654  41.926623715\n",
       "3  0.861136312  0.347854845  27.917044674  26.367212549"
      ]
     },
     "execution_count": 100,
     "metadata": {},
     "output_type": "execute_result"
    }
   ],
   "source": [
    "def coeffts(x_data, y_data):\n",
    "    # n points\n",
    "    n = len(x_data)  # degre n-1\n",
    "    a = np.zeros((n, n))\n",
    "    a[:, 0] = y_data.copy()\n",
    "    for j in range(1, n):\n",
    "        for i in range(n-1, j-1, -1):\n",
    "            a[i, j] = (a[i, j-1]-a[i-1, j-1])/(x_data[i]-x_data[i-j])\n",
    "    return a\n",
    "\n",
    "def newton(x, a, x_data):\n",
    "    n = len(x_data) - 1\n",
    "    p = a[n]\n",
    "    for k in range(1, n+1):\n",
    "        p = a[n-k] + (x - x_data[n-k])*p\n",
    "    return p\n",
    "\n",
    "a1 = coeffts(x_data[:3], y_data[:3])\n",
    "f1 = newton(x, np.diag(a1), x_data[:3])\n",
    "print(pd.DataFrame(a1, range(3), [\"f(x[i])\", \"f[;]\", \"f[;;]\"]))\n",
    "table[0, 3] = f1.subs(x, table[0, 2])\n",
    "\n",
    "a2 = coeffts(x_data[2:5], y_data[2:5])\n",
    "f2 = newton(x, np.diag(a2), x_data[2:5])\n",
    "print(pd.DataFrame(a2, range(3), [\"f(x[i])\", \"f[;]\", \"f[;;]\"]))\n",
    "table[1, 3] = f2.subs(x, table[1, 2])\n",
    "\n",
    "a3 = coeffts(x_data[5:8], y_data[5:8])\n",
    "f3 = newton(x, np.diag(a3), x_data[5:8])\n",
    "print(pd.DataFrame(a3, range(3), [\"f(x[i])\", \"f[;]\", \"f[;;]\"]))\n",
    "table[2, 3] = f3.subs(x, table[2, 2])\n",
    "\n",
    "a4 = coeffts(x_data[8:], y_data[8:])\n",
    "f4 = newton(x, np.diag(a4), x_data[8:])\n",
    "print(pd.DataFrame(a4, range(3), [\"f(x[i])\", \"f[;]\", \"f[;;]\"]))\n",
    "table[3, 3] = f4.subs(x, table[3, 2])\n",
    "\n",
    "pd.DataFrame(table, range(len(z)), [\"zi\", \"wi\", \"15 + 15zi\", \"f(15 + 15zi)\"])"
   ]
  },
  {
   "cell_type": "code",
   "execution_count": null,
   "metadata": {},
   "outputs": [],
   "source": []
  }
 ],
 "metadata": {
  "kernelspec": {
   "display_name": "Python 3",
   "language": "python",
   "name": "python3"
  },
  "language_info": {
   "codemirror_mode": {
    "name": "ipython",
    "version": 3
   },
   "file_extension": ".py",
   "mimetype": "text/x-python",
   "name": "python",
   "nbconvert_exporter": "python",
   "pygments_lexer": "ipython3",
   "version": "3.8.5"
  }
 },
 "nbformat": 4,
 "nbformat_minor": 4
}
