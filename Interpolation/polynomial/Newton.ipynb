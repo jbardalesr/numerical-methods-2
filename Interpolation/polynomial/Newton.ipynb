{
 "cells": [
  {
   "cell_type": "code",
   "execution_count": 2,
   "metadata": {},
   "outputs": [],
   "source": [
    "import numpy as np\n",
    "import math\n",
    "import matplotlib.pyplot as plt\n",
    "import sympy as sp\n",
    "import pandas as pd\n",
    "from sympy.polys.polyfuncs import horner"
   ]
  },
  {
   "cell_type": "markdown",
   "metadata": {},
   "source": [
    "### Newton Interpolation"
   ]
  },
  {
   "cell_type": "code",
   "execution_count": 3,
   "metadata": {},
   "outputs": [],
   "source": [
    "def coeffts(x_data, y_data):\n",
    "    # n points\n",
    "    n = len(x_data)  # degre n-1\n",
    "    a = np.zeros((n, n))\n",
    "    a[:, 0] = y_data.copy()\n",
    "    for j in range(1, n):\n",
    "        for i in range(n-1, j-1, -1):\n",
    "            a[i, j] = (a[i, j-1]-a[i-1, j-1])/(x_data[i]-x_data[i-j])\n",
    "    return a"
   ]
  },
  {
   "cell_type": "code",
   "execution_count": 4,
   "metadata": {},
   "outputs": [],
   "source": [
    "def nested_newton(x, a, x_data):\n",
    "    n = len(x_data) - 1\n",
    "    p = a[n]\n",
    "    for k in range(1, n+1):\n",
    "        p = a[n-k] + (x - x_data[n-k])*p\n",
    "    return p"
   ]
  },
  {
   "cell_type": "markdown",
   "metadata": {},
   "source": [
    "### Table"
   ]
  },
  {
   "cell_type": "code",
   "execution_count": 5,
   "metadata": {},
   "outputs": [
    {
     "data": {
      "text/html": [
       "<div>\n",
       "<style scoped>\n",
       "    .dataframe tbody tr th:only-of-type {\n",
       "        vertical-align: middle;\n",
       "    }\n",
       "\n",
       "    .dataframe tbody tr th {\n",
       "        vertical-align: top;\n",
       "    }\n",
       "\n",
       "    .dataframe thead th {\n",
       "        text-align: right;\n",
       "    }\n",
       "</style>\n",
       "<table border=\"1\" class=\"dataframe\">\n",
       "  <thead>\n",
       "    <tr style=\"text-align: right;\">\n",
       "      <th></th>\n",
       "      <th>x_k</th>\n",
       "      <th>f[]</th>\n",
       "      <th>f[;]</th>\n",
       "      <th>f[;;]</th>\n",
       "      <th>f[;;;]</th>\n",
       "    </tr>\n",
       "  </thead>\n",
       "  <tbody>\n",
       "    <tr>\n",
       "      <th>0</th>\n",
       "      <td>-15.0</td>\n",
       "      <td>15.0</td>\n",
       "      <td>0.00</td>\n",
       "      <td>0.0000</td>\n",
       "      <td>0.0000000</td>\n",
       "    </tr>\n",
       "    <tr>\n",
       "      <th>1</th>\n",
       "      <td>-13.0</td>\n",
       "      <td>13.0</td>\n",
       "      <td>-1.00</td>\n",
       "      <td>0.0000</td>\n",
       "      <td>0.0000000</td>\n",
       "    </tr>\n",
       "    <tr>\n",
       "      <th>2</th>\n",
       "      <td>-5.0</td>\n",
       "      <td>9.0</td>\n",
       "      <td>-0.50</td>\n",
       "      <td>0.0500</td>\n",
       "      <td>0.0000000</td>\n",
       "    </tr>\n",
       "    <tr>\n",
       "      <th>3</th>\n",
       "      <td>-1.0</td>\n",
       "      <td>4.0</td>\n",
       "      <td>-1.25</td>\n",
       "      <td>-0.0625</td>\n",
       "      <td>-0.0080357</td>\n",
       "    </tr>\n",
       "  </tbody>\n",
       "</table>\n",
       "</div>"
      ],
      "text/plain": [
       "    x_k   f[]  f[;]   f[;;]     f[;;;]\n",
       "0 -15.0  15.0  0.00  0.0000  0.0000000\n",
       "1 -13.0  13.0 -1.00  0.0000  0.0000000\n",
       "2  -5.0   9.0 -0.50  0.0500  0.0000000\n",
       "3  -1.0   4.0 -1.25 -0.0625 -0.0080357"
      ]
     },
     "execution_count": 5,
     "metadata": {},
     "output_type": "execute_result"
    }
   ],
   "source": [
    "x_data = np.array([-15, -13, -5, -1.0])\n",
    "y_data = np.array([15, 13.0, 9, 4.0])\n",
    "a = coeffts(x_data, y_data)\n",
    "table = np.append(np.reshape(x_data, (len(x_data), 1)), a, axis=1)\n",
    "df = pd.DataFrame(data=table, index=range(len(table[:,0])), columns=[\"x_k\", \"f[]\", \"f[;]\" , \"f[;;]\", \"f[;;;]\"])\n",
    "pd.set_option(\"display.precision\", 7)\n",
    "df"
   ]
  },
  {
   "cell_type": "markdown",
   "metadata": {},
   "source": [
    "### Polynomial"
   ]
  },
  {
   "cell_type": "code",
   "execution_count": 6,
   "metadata": {},
   "outputs": [
    {
     "data": {
      "text/latex": [
       "$\\displaystyle x \\left(x \\left(- 0.0080357143 x - 0.21517857\\right) - 2.2919643\\right) + 1.9151786$"
      ],
      "text/plain": [
       "x*(x*(-0.0080357143*x - 0.21517857) - 2.2919643) + 1.9151786"
      ]
     },
     "execution_count": 6,
     "metadata": {},
     "output_type": "execute_result"
    }
   ],
   "source": [
    "x = sp.symbols(\"x\")\n",
    "p = sp.N(nested_newton(x, np.diag(a), x_data), 8)\n",
    "horner(p)"
   ]
  },
  {
   "cell_type": "markdown",
   "metadata": {},
   "source": [
    "### Plot"
   ]
  },
  {
   "cell_type": "code",
   "execution_count": 7,
   "metadata": {},
   "outputs": [
    {
     "data": {
      "image/png": "[encoded data removed]",
      "text/plain": [
       "<Figure size 432x288 with 1 Axes>"
      ]
     },
     "metadata": {
      "needs_background": "light"
     },
     "output_type": "display_data"
    }
   ],
   "source": [
    "x_interval = np.linspace(np.min(x_data), np.max(x_data), 100)\n",
    "y_interval = [p.subs(x, i) for i in x_interval]\n",
    "\n",
    "plt.plot(x_interval, y_interval)\n",
    "plt.scatter(x_data, y_data)\n",
    "plt.grid(True)\n",
    "plt.title(\"Lagrange interpolation\")\n",
    "plt.legend((\"f(x)\",\"points\"))\n",
    "plt.xlabel(\"X\")\n",
    "plt.ylabel(\"Y\")\n",
    "plt.show()"
   ]
  }
 ],
 "metadata": {
  "kernelspec": {
   "display_name": "Python 3",
   "language": "python",
   "name": "python3"
  },
  "language_info": {
   "codemirror_mode": {
    "name": "ipython",
    "version": 3
   },
   "file_extension": ".py",
   "mimetype": "text/x-python",
   "name": "python",
   "nbconvert_exporter": "python",
   "pygments_lexer": "ipython3",
   "version": "3.8.5"
  }
 },
 "nbformat": 4,
 "nbformat_minor": 4
}
