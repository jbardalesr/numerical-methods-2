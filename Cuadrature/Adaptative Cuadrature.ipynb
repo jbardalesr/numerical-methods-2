{
 "cells": [
  {
   "cell_type": "code",
   "execution_count": 5,
   "metadata": {},
   "outputs": [],
   "source": [
    "import numpy as np\n",
    "import pandas as pd\n",
    "import math"
   ]
  },
  {
   "cell_type": "markdown",
   "metadata": {},
   "source": [
    "### Romberg\n",
    "\\begin{align}\n",
    "    R(k,1)=\\frac{1}{2}\\left[R(k-1,1)+h_{k-1}\\sum_{i=1}^{2^{k-2}}f(a+(2i-1)h_k) \\right]\n",
    "\\end{align}"
   ]
  },
  {
   "cell_type": "code",
   "execution_count": 6,
   "metadata": {},
   "outputs": [
    {
     "data": {
      "text/plain": [
       "array([1.92367069e-16, 1.92367069e-16, 7.85398163e-01, 1.34075853e+00,\n",
       "       1.65749507e+00])"
      ]
     },
     "execution_count": 6,
     "metadata": {},
     "output_type": "execute_result"
    }
   ],
   "source": [
    "def romberg(f: \"function\", a, b, n):\n",
    "    R = np.zeros(n)\n",
    "    # i = 1\n",
    "    h = b - a \n",
    "    R[0] = h/2*(f(a) + f(b))\n",
    "\n",
    "    for k in range(1, n):\n",
    "        suma = 0.0\n",
    "        for i in range(int(2**(k - 1))):\n",
    "            suma += f(a + 2*i*h/2)\n",
    "\n",
    "        R[k] = 1/2*(R[k-1] + h*suma)\n",
    "        h = h/2\n",
    "        \n",
    "    return R\n",
    "\n",
    "f = lambda x: np.cos(x)\n",
    "a = -np.pi/2\n",
    "b = np.pi/2\n",
    "\n",
    "romberg(f, a, b, 5)"
   ]
  },
  {
   "cell_type": "markdown",
   "metadata": {},
   "source": [
    "### Richardson Extrapolation\n",
    "\\begin{equation}\n",
    "R(k, i)=R(k, i-1)+\\frac{R(k, i-1)-R(k-1, i-1)}{4^{i-1}-1}\n",
    "\\end{equation}"
   ]
  },
  {
   "cell_type": "code",
   "execution_count": 15,
   "metadata": {},
   "outputs": [
    {
     "name": "stdout",
     "output_type": "stream",
     "text": [
      "Richardson Extrapolation\n"
     ]
    },
    {
     "data": {
      "text/html": [
       "<div>\n",
       "<style scoped>\n",
       "    .dataframe tbody tr th:only-of-type {\n",
       "        vertical-align: middle;\n",
       "    }\n",
       "\n",
       "    .dataframe tbody tr th {\n",
       "        vertical-align: top;\n",
       "    }\n",
       "\n",
       "    .dataframe thead th {\n",
       "        text-align: right;\n",
       "    }\n",
       "</style>\n",
       "<table border=\"1\" class=\"dataframe\">\n",
       "  <thead>\n",
       "    <tr style=\"text-align: right;\">\n",
       "      <th></th>\n",
       "      <th>R1</th>\n",
       "      <th>R2</th>\n",
       "      <th>R3</th>\n",
       "      <th>R4</th>\n",
       "      <th>R5</th>\n",
       "    </tr>\n",
       "  </thead>\n",
       "  <tbody>\n",
       "    <tr>\n",
       "      <th>0</th>\n",
       "      <td>1.9236706937e-16</td>\n",
       "      <td>0.0000000000e+00</td>\n",
       "      <td>0.0000000000</td>\n",
       "      <td>0.0000000000</td>\n",
       "      <td>0.0000000000</td>\n",
       "    </tr>\n",
       "    <tr>\n",
       "      <th>1</th>\n",
       "      <td>1.9236706937e-16</td>\n",
       "      <td>1.9236706937e-16</td>\n",
       "      <td>0.0000000000</td>\n",
       "      <td>0.0000000000</td>\n",
       "      <td>0.0000000000</td>\n",
       "    </tr>\n",
       "    <tr>\n",
       "      <th>2</th>\n",
       "      <td>7.8539816340e-01</td>\n",
       "      <td>1.0471975512e+00</td>\n",
       "      <td>1.1170107213</td>\n",
       "      <td>0.0000000000</td>\n",
       "      <td>0.0000000000</td>\n",
       "    </tr>\n",
       "    <tr>\n",
       "      <th>3</th>\n",
       "      <td>1.3407585307e+00</td>\n",
       "      <td>1.5258786531e+00</td>\n",
       "      <td>1.5577907266</td>\n",
       "      <td>1.5647872346</td>\n",
       "      <td>0.0000000000</td>\n",
       "    </tr>\n",
       "    <tr>\n",
       "      <th>4</th>\n",
       "      <td>1.6574950663e+00</td>\n",
       "      <td>1.7630739115e+00</td>\n",
       "      <td>1.7788869287</td>\n",
       "      <td>1.7823963923</td>\n",
       "      <td>1.7832497615</td>\n",
       "    </tr>\n",
       "  </tbody>\n",
       "</table>\n",
       "</div>"
      ],
      "text/plain": [
       "                 R1                R2            R3            R4  \\\n",
       "0  1.9236706937e-16  0.0000000000e+00  0.0000000000  0.0000000000   \n",
       "1  1.9236706937e-16  1.9236706937e-16  0.0000000000  0.0000000000   \n",
       "2  7.8539816340e-01  1.0471975512e+00  1.1170107213  0.0000000000   \n",
       "3  1.3407585307e+00  1.5258786531e+00  1.5577907266  1.5647872346   \n",
       "4  1.6574950663e+00  1.7630739115e+00  1.7788869287  1.7823963923   \n",
       "\n",
       "             R5  \n",
       "0  0.0000000000  \n",
       "1  0.0000000000  \n",
       "2  0.0000000000  \n",
       "3  0.0000000000  \n",
       "4  1.7832497615  "
      ]
     },
     "execution_count": 15,
     "metadata": {},
     "output_type": "execute_result"
    }
   ],
   "source": [
    "def richardson_extrapolation(f, a, b, n):\n",
    "    R = np.zeros((n, n))\n",
    "    h = b - a\n",
    "    R[0, 0] = h/2*(f(a) + f(b))\n",
    "    for k in range(1, n):         \n",
    "        trapezoidal = 0.0  \n",
    "        for l in range(int(2**(k - 1))):\n",
    "            trapezoidal += f(a + 2*l*h/2)\n",
    "        R[k, 0] = 1/2*(R[k-1, 0] + h*trapezoidal)\n",
    "\n",
    "        for i in range(1, k + 1):\n",
    "            R[k, i] = R[k, i-1] + (R[k, i-1] - R[k-1, i-1])/(4**i - 1)\n",
    "        h = h/2\n",
    "    return R\n",
    "\n",
    "f = lambda x: np.cos(x)\n",
    "a = -np.pi/2\n",
    "b = np.pi/2\n",
    "\n",
    "table = richardson_extrapolation(f, a, b, 5)\n",
    "print(\"Richardson Extrapolation\")\n",
    "pd.set_option(\"display.precision\", 10)\n",
    "pd.DataFrame(table, range(len(table[:, 0])), [\"R1\", \"R2\", \"R3\", \"R4\", \"R5\"])"
   ]
  }
 ],
 "metadata": {
  "kernelspec": {
   "display_name": "Python 3",
   "language": "python",
   "name": "python3"
  },
  "language_info": {
   "codemirror_mode": {
    "name": "ipython",
    "version": 3
   },
   "file_extension": ".py",
   "mimetype": "text/x-python",
   "name": "python",
   "nbconvert_exporter": "python",
   "pygments_lexer": "ipython3",
   "version": "3.8.5"
  }
 },
 "nbformat": 4,
 "nbformat_minor": 4
}
