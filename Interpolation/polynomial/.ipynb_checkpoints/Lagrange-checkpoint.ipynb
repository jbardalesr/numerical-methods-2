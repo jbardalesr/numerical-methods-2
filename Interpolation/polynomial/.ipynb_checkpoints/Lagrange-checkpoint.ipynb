{
 "cells": [
  {
   "cell_type": "code",
   "execution_count": 1,
   "metadata": {},
   "outputs": [],
   "source": [
    "import numpy as np\n",
    "import math\n",
    "import matplotlib.pyplot as plt\n",
    "import sympy as sp\n",
    "from sympy.polys.polyfuncs import horner"
   ]
  },
  {
   "cell_type": "markdown",
   "metadata": {},
   "source": [
    "### Lagrange interpolation"
   ]
  },
  {
   "cell_type": "code",
   "execution_count": 2,
   "metadata": {},
   "outputs": [],
   "source": [
    "def get_polynomial(x, x_data, y_data):\n",
    "    \"\"\"\n",
    "    Return the interpolation polynomial\n",
    "    \"\"\"\n",
    "    n = len(x_data)\n",
    "    q = 0\n",
    "    for k in range(n):\n",
    "        p = 1\n",
    "        for j in range(n):\n",
    "            if k != j:\n",
    "                p *= (x - x_data[j])/(x_data[k] - x_data[j])\n",
    "        q += y_data[k]*p\n",
    "    return q"
   ]
  },
  {
   "cell_type": "markdown",
   "metadata": {},
   "source": [
    "### Polynomial"
   ]
  },
  {
   "cell_type": "code",
   "execution_count": 3,
   "metadata": {},
   "outputs": [],
   "source": [
    "x_data = np.array([1, 5, 13, 15.0])\n",
    "y_data = np.array([4, 9, 13, 15.0])"
   ]
  },
  {
   "cell_type": "code",
   "execution_count": 4,
   "metadata": {},
   "outputs": [
    {
     "data": {
      "text/latex": [
       "$\\displaystyle x \\left(x \\left(0.0080357142 x - 0.21517857\\right) + 2.2919643\\right) + 1.9151786$"
      ],
      "text/plain": [
       "x*(x*(0.0080357142*x - 0.21517857) + 2.2919643) + 1.9151786"
      ]
     },
     "execution_count": 4,
     "metadata": {},
     "output_type": "execute_result"
    }
   ],
   "source": [
    "x = sp.symbols(\"x\")\n",
    "p = sp.N(get_polynomial(x, x_data, y_data), 8)\n",
    "horner(p)"
   ]
  },
  {
   "cell_type": "code",
   "execution_count": 5,
   "metadata": {},
   "outputs": [
    {
     "data": {
      "text/latex": [
       "$\\displaystyle 4.0$"
      ],
      "text/plain": [
       "4.0000000"
      ]
     },
     "execution_count": 5,
     "metadata": {},
     "output_type": "execute_result"
    }
   ],
   "source": [
    "p.subs(x, 1)"
   ]
  },
  {
   "cell_type": "markdown",
   "metadata": {},
   "source": [
    "### Plot"
   ]
  },
  {
   "cell_type": "code",
   "execution_count": 7,
   "metadata": {},
   "outputs": [
    {
     "data": {
      "image/png": "[encoded data removed]",
      "text/plain": [
       "<Figure size 432x288 with 1 Axes>"
      ]
     },
     "metadata": {
      "needs_background": "light"
     },
     "output_type": "display_data"
    }
   ],
   "source": [
    "x_interval = np.linspace(np.min(x_data), np.max(x_data), 100)\n",
    "y_interval = [p.subs(x, i) for i in x_interval]\n",
    "\n",
    "plt.plot(x_interval, y_interval)\n",
    "plt.scatter(x_data, y_data)\n",
    "plt.grid(True)\n",
    "plt.title(\"Lagrange interpolation\")\n",
    "plt.legend((\"f(x)\",\"points\"))\n",
    "plt.xlabel(\"X\")\n",
    "plt.ylabel(\"Y\")\n",
    "plt.show()"
   ]
  },
  {
   "cell_type": "code",
   "execution_count": null,
   "metadata": {},
   "outputs": [],
   "source": []
  }
 ],
 "metadata": {
  "kernelspec": {
   "display_name": "Python 3",
   "language": "python",
   "name": "python3"
  },
  "language_info": {
   "codemirror_mode": {
    "name": "ipython",
    "version": 3
   },
   "file_extension": ".py",
   "mimetype": "text/x-python",
   "name": "python",
   "nbconvert_exporter": "python",
   "pygments_lexer": "ipython3",
   "version": "3.8.5"
  }
 },
 "nbformat": 4,
 "nbformat_minor": 4
}
