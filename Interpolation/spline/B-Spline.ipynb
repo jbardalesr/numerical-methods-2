{
 "cells": [
  {
   "cell_type": "code",
   "execution_count": 2,
   "metadata": {},
   "outputs": [],
   "source": [
    "import numpy as np\n",
    "import matplotlib.pyplot as plt\n",
    "import sympy as sp"
   ]
  },
  {
   "cell_type": "markdown",
   "metadata": {},
   "source": [
    "## Periodic"
   ]
  },
  {
   "cell_type": "code",
   "execution_count": 6,
   "metadata": {},
   "outputs": [],
   "source": [
    "def NP(i, k, t, tval, T: list) -> float:\n",
    "    \"\"\"\n",
    "    Parameters\n",
    "    k: b-spline order, degre of polynomial is k-1\n",
    "    T: vector node\n",
    "    \"\"\"\n",
    "    if k == 1:\n",
    "        return 1 if T[i] <= tval < T[i+1] else 0\n",
    "    else:\n",
    "        return (t - T[i])/(T[i+k-1] - T[i])*NP(i, k-1, t, tval, T) + (T[i+k] - t)/(T[i+k] - T[i+1])*NP(i+1, k-1, t, tval, T)\n",
    "\n",
    "def periodic_b_spline(t, tval, k, T:list, P: list):\n",
    "    sk = 0\n",
    "    n = len(P)\n",
    "    for i in range(n):\n",
    "        sk += P[i]*NP(i, k, t, tval, T)\n",
    "    return sk\n",
    "\n",
    "P = np.array([[150, 35.5],\n",
    "              [160, 37.8],\n",
    "              [170, 43.6],\n",
    "              [180, 45.7],\n",
    "              [190, 47.3],\n",
    "              [200, 50.1],\n",
    "              [210, 51.2]])\n",
    "\n",
    "k = 3       # order of b-spline\n",
    "n = len(P)  # number of points\n",
    "T = [i for i in range(n+k)]"
   ]
  },
  {
   "cell_type": "markdown",
   "metadata": {},
   "source": [
    "### Polynomial"
   ]
  },
  {
   "cell_type": "code",
   "execution_count": 7,
   "metadata": {},
   "outputs": [
    {
     "name": "stdout",
     "output_type": "stream",
     "text": [
      "Polynomial and Interval\n",
      "t ϵ (2, 3)\n",
      "x(t)=10.0*t + 135.0\n",
      "y(t)=1.75*t**2 - 4.7*t + 39.05\n",
      "t ϵ (3, 4)\n",
      "x(t)=10.0*t + 135.0\n",
      "y(t)=-1.85*t**2 + 16.9*t + 6.65\n",
      "t ϵ (4, 5)\n",
      "x(t)=10.0*t + 135.0\n",
      "y(t)=-0.25*t**2 + 4.1*t + 32.25\n",
      "t ϵ (5, 6)\n",
      "x(t)=10.0*t + 135.0\n",
      "y(t)=0.6*t**2 - 4.4*t + 53.5\n",
      "t ϵ (6, 7)\n",
      "x(t)=10.0*t + 135.0\n",
      "y(t)=-0.85*t**2 + 13.0*t + 1.3\n"
     ]
    }
   ],
   "source": [
    "t = sp.symbols('t')\n",
    "M = []\n",
    "for tval in range(k - 1, n):\n",
    "    X = periodic_b_spline(t, tval, k, T, P)\n",
    "    M.append([sp.expand(X[0]), sp.expand(X[1]), tval, tval + 1])\n",
    "print(\"Polynomial and Interval\")\n",
    "\n",
    "for row in M:\n",
    "    print(f\"t ϵ {row[2], row[3]}\")\n",
    "    print(f\"x(t)={sp.N(row[0], 5)}\\ny(t)={sp.N(row[1], 5)}\")"
   ]
  },
  {
   "cell_type": "markdown",
   "metadata": {},
   "source": [
    "### Plot"
   ]
  },
  {
   "cell_type": "code",
   "execution_count": 8,
   "metadata": {},
   "outputs": [
    {
     "data": {
      "image/png": "[encoded data removed]",
      "text/plain": [
       "<Figure size 432x288 with 1 Axes>"
      ]
     },
     "metadata": {
      "needs_background": "light"
     },
     "output_type": "display_data"
    }
   ],
   "source": [
    "m = len(M)\n",
    "for row in M:\n",
    "    x_interval, y_interval = row[0], row[1]\n",
    "    t_interval = np.linspace(row[2], row[3], 100)\n",
    "    plt.plot([x_interval.subs(t, i) for i in t_interval], [y_interval.subs(t, i) for i in t_interval])\n",
    "\n",
    "plt.scatter(P[:, 0], P[:, 1])\n",
    "plt.plot(P[:, 0], P[:, 1], c='red',  alpha=0.25)\n",
    "plt.title(\"Periodic B-Spline\")\n",
    "plt.grid(True)\n",
    "plt.xlabel(\"X\")\n",
    "plt.ylabel(\"Y\")\n",
    "plt.show()"
   ]
  },
  {
   "cell_type": "markdown",
   "metadata": {},
   "source": [
    "## Non Periodic"
   ]
  },
  {
   "cell_type": "code",
   "execution_count": 16,
   "metadata": {},
   "outputs": [],
   "source": [
    "def NNP(i, k, t, tval, T: list) -> float:\n",
    "    \"\"\"\n",
    "    Parameters\n",
    "    k: b-spline order, degre of polynomial is k-1\n",
    "    T: vector node\n",
    "    \"\"\"\n",
    "    if k == 1:\n",
    "        if T[i] <= tval < T[i+1]:\n",
    "            return 1\n",
    "        else:\n",
    "            return 0\n",
    "    else:\n",
    "        d1 = T[i+k-1] - T[i]\n",
    "        d2 = T[i+k] - T[i+1]\n",
    "\n",
    "        if d1 != 0 and d2 != 0:\n",
    "            return (t - T[i])/d1*NNP(i, k-1, t, tval, T) + (T[i+k] - t)/d2*NNP(i+1, k-1, t, tval, T)\n",
    "        elif d1 == 0 and d2 != 0:\n",
    "            return (T[i+k] - t)/d2*NNP(i+1, k-1, t, tval, T)\n",
    "        elif d1 != 0 and d2 == 0:\n",
    "            return (t - T[i])/d1*NNP(i, k-1, t, tval, T)\n",
    "        else:\n",
    "            return 0\n",
    "\n",
    "def nonperiodic_b_spline(t: float,tval, k: int, T: list, P: list):\n",
    "    sk = 0\n",
    "    for i in range(len(P[:, 0])):\n",
    "        sk += P[i]*NNP(i, k, t, tval, T)\n",
    "    return sk\n",
    "\n",
    "P = np.array([[150, 35.5],\n",
    "              [160, 37.8],\n",
    "              [170, 43.6],\n",
    "              [180, 45.7],\n",
    "              [190, 47.3],\n",
    "              [200, 50.1],\n",
    "              [210, 51.2]])\n",
    "k = 3           # order of b-spline\n",
    "n = len(P) - 1  # intex of last point\n",
    "m = n + k\n",
    "\n",
    "T = np.zeros(m + 1)\n",
    "i = 1\n",
    "for j in range(k, m - k + 1):\n",
    "    T[j] = i\n",
    "    i += 1\n",
    "\n",
    "for j in range(m - k + 1, m + 1):\n",
    "    T[j] = i"
   ]
  },
  {
   "cell_type": "markdown",
   "metadata": {},
   "source": [
    "### Polynomial"
   ]
  },
  {
   "cell_type": "code",
   "execution_count": 17,
   "metadata": {},
   "outputs": [
    {
     "name": "stdout",
     "output_type": "stream",
     "text": [
      "Polynomial and Interval\n",
      "t ϵ (0, 1)\n",
      "x(t)=-5.0*t**2 + 20.0*t + 150.0\n",
      "y(t)=0.600000000000001*t**2 + 4.59999999999999*t + 35.5\n",
      "t ϵ (1, 2)\n",
      "x(t)=10.0*t + 155.0\n",
      "y(t)=-1.85*t**2 + 9.50000000000001*t + 33.05\n",
      "t ϵ (2, 3)\n",
      "x(t)=10.0*t + 155.0\n",
      "y(t)=-0.250000000000004*t**2 + 3.10000000000002*t + 39.45\n",
      "t ϵ (3, 4)\n",
      "x(t)=10.0*t + 155.0\n",
      "y(t)=0.600000000000005*t**2 - 2.00000000000006*t + 47.1000000000001\n",
      "t ϵ (4, 5)\n",
      "x(t)=5.0*t**2 - 30.0*t + 235.0\n",
      "y(t)=-0.300000000000008*t**2 + 5.20000000000002*t + 32.7\n"
     ]
    }
   ],
   "source": [
    "t = sp.symbols('t')\n",
    "M = []\n",
    "for tval in range(n - k + 2):\n",
    "    X = nonperiodic_b_spline(t, tval, k, T, P)\n",
    "    M.append([sp.expand(X[0]), sp.expand(X[1]), tval, tval + 1])\n",
    "print(\"Polynomial and Interval\")\n",
    "\n",
    "for row in M:\n",
    "    print(f\"t ϵ {row[2], row[3]}\")\n",
    "    print(f\"x(t)={row[0]}\\ny(t)={row[1]}\")"
   ]
  },
  {
   "cell_type": "markdown",
   "metadata": {},
   "source": [
    "### Plot"
   ]
  },
  {
   "cell_type": "code",
   "execution_count": 18,
   "metadata": {},
   "outputs": [
    {
     "data": {
      "image/png": "[encoded data removed]",
      "text/plain": [
       "<Figure size 432x288 with 1 Axes>"
      ]
     },
     "metadata": {
      "needs_background": "light"
     },
     "output_type": "display_data"
    }
   ],
   "source": [
    "m = len(M)\n",
    "for row in M:\n",
    "    x_interval, y_interval = row[0], row[1]\n",
    "    t_interval = np.linspace(row[2], row[3], 100)\n",
    "    plt.plot([x_interval.subs(t, i) for i in t_interval], [y_interval.subs(t, i) for i in t_interval])\n",
    "\n",
    "plt.scatter(P[:, 0], P[:, 1])\n",
    "plt.plot(P[:, 0], P[:, 1], c='red',  alpha=0.25)\n",
    "plt.title(\"Non Periodic B-Spline\")\n",
    "plt.grid(True)\n",
    "plt.xlabel(\"X\")\n",
    "plt.ylabel(\"Y\")\n",
    "plt.show()"
   ]
  },
  {
   "cell_type": "markdown",
   "metadata": {},
   "source": [
    "### Práctica Calificada 2, Pregunta 4"
   ]
  },
  {
   "cell_type": "code",
   "execution_count": 19,
   "metadata": {},
   "outputs": [
    {
     "name": "stdout",
     "output_type": "stream",
     "text": [
      "Polynomial and Interval\n",
      "t ϵ (0, 1)\n",
      "x(t)=0.241666666666668*t**3 - 0.450000000000001*t**2 + 2.1*t + 2.0\n",
      "y(t)=2.06666666666667*t**3 - 6.6*t**2 + 8.4*t + 5.0\n",
      "t ϵ (1, 2)\n",
      "x(t)=-0.125*t**3 + 0.650000000000001*t**2 + 0.999999999999997*t + 2.36666666666667\n",
      "y(t)=-0.0333333333333332*t**3 - 0.300000000000001*t**2 + 2.1*t + 7.1\n",
      "t ϵ (2, 3)\n",
      "x(t)=0.0333333333333334*t**3 - 0.300000000000002*t**2 + 2.90000000000001*t + 1.09999999999999\n",
      "y(t)=0.216666666666667*t**3 - 1.8*t**2 + 5.10000000000001*t + 5.09999999999999\n",
      "t ϵ (3, 4)\n",
      "x(t)=0.166666666666667*t**3 - 1.5*t**2 + 6.5*t - 2.49999999999999\n",
      "y(t)=-0.0833333333333339*t**3 + 0.900000000000006*t**2 - 3.00000000000001*t + 13.2\n",
      "t ϵ (4, 5)\n",
      "x(t)=-0.166666666666667*t**3 + 2.5*t**2 - 9.49999999999997*t + 18.8333333333333\n",
      "y(t)=0.7*t**3 - 8.5*t**2 + 34.6*t - 36.9333333333334\n",
      "t ϵ (5, 6)\n",
      "x(t)=-0.166666666666667*t**3 + 2.5*t**2 - 9.50000000000003*t + 18.8333333333334\n",
      "y(t)=-1.26666666666667*t**3 + 21.0*t**2 - 112.9*t + 208.9\n",
      "t ϵ (6, 7)\n",
      "x(t)=0.333333333333333*t**3 - 6.5*t**2 + 44.5*t - 89.1666666666669\n",
      "y(t)=0.583333333333333*t**3 - 12.3*t**2 + 86.9*t - 190.7\n",
      "t ϵ (7, 8)\n",
      "x(t)=0.5*t**2 - 4.5*t + 25.1666666666665\n",
      "y(t)=-0.0333333333333328*t**3 + 0.649999999999999*t**2 - 3.75*t + 20.8166666666666\n",
      "t ϵ (8, 9)\n",
      "x(t)=0.416666666666668*t**3 - 9.50000000000003*t**2 + 75.5*t - 188.166666666667\n",
      "y(t)=-0.341666666666667*t**3 + 8.04999999999999*t**2 - 62.9499999999999*t + 178.683333333333\n",
      "t ϵ (9, 10)\n",
      "x(t)=2.91666666666667*t**3 - 77.0*t**2 + 683.0*t - 2010.66666666667\n",
      "y(t)=-7.85833333333333*t**3 + 211.0*t**2 - 1889.5*t + 5658.33333333333\n"
     ]
    },
    {
     "data": {
      "image/png": "[encoded data removed]",
      "text/plain": [
       "<Figure size 432x288 with 1 Axes>"
      ]
     },
     "metadata": {
      "needs_background": "light"
     },
     "output_type": "display_data"
    }
   ],
   "source": [
    "x_data = np.array([2, 2.7, 3.8, 6, 8, 10, 13, 16, 18, 21, 25, 30, 36]).reshape(-1, 1)\n",
    "y_data = np.array([5, 7.8, 9, 10.0, 10.0, 10.3, 10.4, 14.5, 15, 15.4, 15.5, 14, 5]).reshape(-1, 1)\n",
    "\n",
    "P = np.append(x_data, y_data, 1)\n",
    "\n",
    "k = 4           # order of b-spline\n",
    "n = len(P) - 1  # intex of last point\n",
    "m = n + k\n",
    "\n",
    "T = np.zeros(m + 1)\n",
    "i = 1\n",
    "for j in range(k, m - k + 1):\n",
    "    T[j] = i\n",
    "    i += 1\n",
    "\n",
    "for j in range(m - k + 1, m + 1):\n",
    "    T[j] = i\n",
    "    \n",
    "t = sp.symbols('t')\n",
    "M = []\n",
    "for tval in range(n - k + 2):\n",
    "    X = nonperiodic_b_spline(t, tval, k, T, P)\n",
    "    M.append([sp.expand(X[0]), sp.expand(X[1]), tval, tval + 1])\n",
    "print(\"Polynomial and Interval\")\n",
    "\n",
    "for row in M:\n",
    "    print(f\"t ϵ {row[2], row[3]}\")\n",
    "    print(f\"x(t)={row[0]}\\ny(t)={row[1]}\")\n",
    "    \n",
    "m = len(M)\n",
    "for row in M:\n",
    "    x_interval, y_interval = row[0], row[1]\n",
    "    t_interval = np.linspace(row[2], row[3], 50)\n",
    "    plt.plot([x_interval.subs(t, i) for i in t_interval], [y_interval.subs(t, i) for i in t_interval])\n",
    "\n",
    "plt.scatter(P[:, 0], P[:, 1])\n",
    "plt.plot(P[:, 0], P[:, 1], c='red',  alpha=0.25)\n",
    "plt.title(\"Non Periodic B-Spline\")\n",
    "plt.grid(True)\n",
    "plt.xlabel(\"X\")\n",
    "plt.ylabel(\"Y\")\n",
    "plt.show()"
   ]
  },
  {
   "cell_type": "code",
   "execution_count": null,
   "metadata": {},
   "outputs": [],
   "source": []
  }
 ],
 "metadata": {
  "kernelspec": {
   "display_name": "Python 3",
   "language": "python",
   "name": "python3"
  },
  "language_info": {
   "codemirror_mode": {
    "name": "ipython",
    "version": 3
   },
   "file_extension": ".py",
   "mimetype": "text/x-python",
   "name": "python",
   "nbconvert_exporter": "python",
   "pygments_lexer": "ipython3",
   "version": "3.8.5"
  }
 },
 "nbformat": 4,
 "nbformat_minor": 4
}
