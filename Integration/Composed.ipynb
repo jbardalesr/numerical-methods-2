{
 "cells": [
  {
   "cell_type": "code",
   "execution_count": 1,
   "metadata": {},
   "outputs": [],
   "source": [
    "import numpy as np\n",
    "import pandas as pd\n",
    "import sympy as sp\n",
    "from decimal import Decimal, getcontext"
   ]
  },
  {
   "cell_type": "code",
   "execution_count": 2,
   "metadata": {},
   "outputs": [],
   "source": [
    "def trapezoidal(y_data, h):\n",
    "    n = len(y_data) - 1\n",
    "    integral = [y_data[0]]\n",
    "    for k in range(1, n):\n",
    "        integral.append(2*y_data[k])\n",
    "    integral.append(y_data[n])\n",
    "    return integral, sum(integral)*h/2"
   ]
  },
  {
   "cell_type": "code",
   "execution_count": 3,
   "metadata": {},
   "outputs": [],
   "source": [
    "def simpson(y_data, h):\n",
    "    n = len(y_data) - 1\n",
    "    integral = [y_data[0]]\n",
    "\n",
    "    for k in range(1, n):\n",
    "        if k%2 == 1:\n",
    "            integral.append(4*y_data[k])\n",
    "        else:\n",
    "            integral.append(2*y_data[k])\n",
    "    integral.append(y_data[n])\n",
    "    return integral, sum(integral)*h/3"
   ]
  },
  {
   "cell_type": "code",
   "execution_count": 4,
   "metadata": {},
   "outputs": [],
   "source": [
    "def simpson3_8(y_data, h):\n",
    "    n = len(y_data) - 1\n",
    "    integral = [y_data[0]]\n",
    "\n",
    "    for k in range(1, n):\n",
    "        if k%3 == 2:\n",
    "            integral.append(3*y_data[k])\n",
    "        elif k%3 == 1:\n",
    "            integral.append(3*y_data[k])\n",
    "        else:\n",
    "            integral.append(2*y_data[k])\n",
    "    integral.append(y_data[n])\n",
    "    return integral, sum(integral)*h*3/8"
   ]
  },
  {
   "cell_type": "code",
   "execution_count": 5,
   "metadata": {},
   "outputs": [],
   "source": [
    "def divided_difference(x_data, y_data):\n",
    "    # n points\n",
    "    n = len(x_data)  # degre n-1\n",
    "    a = np.zeros((n, n + 1))\n",
    "    a[:, 0] = x_data.copy()\n",
    "    a[:, 1] = y_data.copy()\n",
    "    for j in range(1, n):\n",
    "        for i in range(j, n):\n",
    "            a[i, j + 1] = a[i, j] - a[i-1, j]\n",
    "    return a"
   ]
  },
  {
   "cell_type": "markdown",
   "metadata": {},
   "source": [
    "### Practica Calificada 3, Pregunta 4"
   ]
  },
  {
   "cell_type": "code",
   "execution_count": 6,
   "metadata": {},
   "outputs": [
    {
     "name": "stdout",
     "output_type": "stream",
     "text": [
      "Area = 11.7010420445\n"
     ]
    },
    {
     "data": {
      "text/html": [
       "<div>\n",
       "<style scoped>\n",
       "    .dataframe tbody tr th:only-of-type {\n",
       "        vertical-align: middle;\n",
       "    }\n",
       "\n",
       "    .dataframe tbody tr th {\n",
       "        vertical-align: top;\n",
       "    }\n",
       "\n",
       "    .dataframe thead th {\n",
       "        text-align: right;\n",
       "    }\n",
       "</style>\n",
       "<table border=\"1\" class=\"dataframe\">\n",
       "  <thead>\n",
       "    <tr style=\"text-align: right;\">\n",
       "      <th></th>\n",
       "      <th>x</th>\n",
       "      <th>f(x)</th>\n",
       "      <th>Trapezoidal</th>\n",
       "    </tr>\n",
       "  </thead>\n",
       "  <tbody>\n",
       "    <tr>\n",
       "      <th>0</th>\n",
       "      <td>1.00</td>\n",
       "      <td>2.718281828</td>\n",
       "      <td>2.718281828</td>\n",
       "    </tr>\n",
       "    <tr>\n",
       "      <th>1</th>\n",
       "      <td>1.25</td>\n",
       "      <td>3.121857647</td>\n",
       "      <td>12.487430588</td>\n",
       "    </tr>\n",
       "    <tr>\n",
       "      <th>2</th>\n",
       "      <td>1.50</td>\n",
       "      <td>3.659283803</td>\n",
       "      <td>7.318567606</td>\n",
       "    </tr>\n",
       "    <tr>\n",
       "      <th>3</th>\n",
       "      <td>1.75</td>\n",
       "      <td>4.350070736</td>\n",
       "      <td>17.400282944</td>\n",
       "    </tr>\n",
       "    <tr>\n",
       "      <th>4</th>\n",
       "      <td>2.00</td>\n",
       "      <td>5.224851674</td>\n",
       "      <td>10.449703348</td>\n",
       "    </tr>\n",
       "    <tr>\n",
       "      <th>5</th>\n",
       "      <td>2.25</td>\n",
       "      <td>6.325157224</td>\n",
       "      <td>25.300628896</td>\n",
       "    </tr>\n",
       "    <tr>\n",
       "      <th>6</th>\n",
       "      <td>2.50</td>\n",
       "      <td>7.704885699</td>\n",
       "      <td>15.409771398</td>\n",
       "    </tr>\n",
       "    <tr>\n",
       "      <th>7</th>\n",
       "      <td>2.75</td>\n",
       "      <td>9.432861944</td>\n",
       "      <td>37.731447776</td>\n",
       "    </tr>\n",
       "    <tr>\n",
       "      <th>8</th>\n",
       "      <td>3.00</td>\n",
       "      <td>11.596390150</td>\n",
       "      <td>11.596390150</td>\n",
       "    </tr>\n",
       "  </tbody>\n",
       "</table>\n",
       "</div>"
      ],
      "text/plain": [
       "      x          f(x)   Trapezoidal\n",
       "0  1.00   2.718281828   2.718281828\n",
       "1  1.25   3.121857647  12.487430588\n",
       "2  1.50   3.659283803   7.318567606\n",
       "3  1.75   4.350070736  17.400282944\n",
       "4  2.00   5.224851674  10.449703348\n",
       "5  2.25   6.325157224  25.300628896\n",
       "6  2.50   7.704885699  15.409771398\n",
       "7  2.75   9.432861944  37.731447776\n",
       "8  3.00  11.596390150  11.596390150"
      ]
     },
     "execution_count": 6,
     "metadata": {},
     "output_type": "execute_result"
    }
   ],
   "source": [
    "x_data = np.linspace(1, 3, 9)\n",
    "y_data = np.array([2.718281828, 3.121857647, 3.659283803, 4.350070736, 5.224851674, 6.325157224, 7.704885699, 9.432861944, 11.59639015])\n",
    "\n",
    "\n",
    "n = len(x_data) - 1\n",
    "h = (x_data[n] - x_data[0])/n\n",
    "\n",
    "# integral, area = trapezoidal(y_data, h)\n",
    "integral, area = simpson(y_data, h)\n",
    "# integral, area = simpson3_8(y_data, h)\n",
    "# trapezoidal(y_data, h)\n",
    "# np.round(simpson(y_data, h), 8)\n",
    "np.set_printoptions(precision=16, suppress=True)\n",
    "\n",
    "\n",
    "table = np.zeros((n +1, 3))\n",
    "table[:, 0] = x_data\n",
    "table[:, 1] = y_data\n",
    "table[:, 2] = integral\n",
    "pd.set_option(\"display.precision\", 10)\n",
    "print(\"Area =\", area)\n",
    "pd.DataFrame(table, range(len(table[:, 0])), ['x', 'f(x)', 'Trapezoidal'])"
   ]
  },
  {
   "cell_type": "markdown",
   "metadata": {},
   "source": [
    "### Practica Calificada 3, Pregunta 5: Error Trapecio\n",
    "$$\n",
    "|E| \\leq \\frac{N}{12}|h|^{3} \\max _{x \\in[1 ; 3]}\\left|f^{(2)}(x)\\right|\n",
    "$$"
   ]
  },
  {
   "cell_type": "code",
   "execution_count": 7,
   "metadata": {},
   "outputs": [
    {
     "name": "stdout",
     "output_type": "stream",
     "text": [
      "E ≤ 0.0211447151243551\n"
     ]
    }
   ],
   "source": [
    "x = sp.symbols('x')\n",
    "f = sp.exp(x)/sp.sqrt(x)\n",
    "d2f = f.diff().diff()\n",
    "d3f = d2f.diff()\n",
    "d2f_max = d2f.subs(x, 1.0535737822163)\n",
    "print(\"E ≤\", n/12*h**3*d2f_max)"
   ]
  }
 ],
 "metadata": {
  "kernelspec": {
   "display_name": "Python 3",
   "language": "python",
   "name": "python3"
  },
  "language_info": {
   "codemirror_mode": {
    "name": "ipython",
    "version": 3
   },
   "file_extension": ".py",
   "mimetype": "text/x-python",
   "name": "python",
   "nbconvert_exporter": "python",
   "pygments_lexer": "ipython3",
   "version": "3.8.5"
  }
 },
 "nbformat": 4,
 "nbformat_minor": 4
}
