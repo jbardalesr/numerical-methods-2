{
 "cells": [
  {
   "cell_type": "code",
   "execution_count": 1,
   "metadata": {},
   "outputs": [],
   "source": [
    "import numpy as np\n",
    "import matplotlib.pyplot as plt"
   ]
  },
  {
   "cell_type": "code",
   "execution_count": 2,
   "metadata": {},
   "outputs": [],
   "source": [
    "def lu_tridiagonal(c, d, e, b):\n",
    "    n = len(d)\n",
    "\n",
    "    for k in range(1, n):\n",
    "        lam = c[k-1]/d[k-1]\n",
    "        d[k] = d[k] - lam*e[k-1]\n",
    "        c[k-1] = lam\n",
    "\n",
    "    for k in range(1, n):\n",
    "        b[k] = b[k] - c[k-1]*b[k-1]\n",
    "\n",
    "    b[n-1] = b[n-1]/d[n-1]\n",
    "\n",
    "    for k in range(n-2, -1, -1):\n",
    "        b[k] = (b[k] - e[k]*b[k+1])/d[k]\n",
    "    return b"
   ]
  },
  {
   "cell_type": "code",
   "execution_count": 7,
   "metadata": {},
   "outputs": [
    {
     "name": "stdout",
     "output_type": "stream",
     "text": [
      "[90. 90. 90. 90. 90. 90. 90. 90.]\n",
      "[-199. -199. -199. -199. -199. -199. -199. -199. -199.]\n",
      "[110. 110. 110. 110. 110. 110. 110. 110.]\n",
      "[ -90.    0.    0.    0.    0.    0.    0.    0. -330.]\n",
      "[1.         1.55381858 1.99281724 2.33388145 2.59171688 2.77911207\n",
      " 2.90717076 2.98551722 3.02247781 3.02524122 3.        ]\n"
     ]
    },
    {
     "data": {
      "image/png": "[encoded data removed]",
      "text/plain": [
       "<Figure size 432x288 with 1 Axes>"
      ]
     },
     "metadata": {
      "needs_background": "light"
     },
     "output_type": "display_data"
    }
   ],
   "source": [
    "def diferencias_finitas(a, b, alpha, beta, p, q, r, n):\n",
    "    h = (b - a)/(n + 1)\n",
    "    x = np. linspace(a, b, n + 2)\n",
    "    y = np.zeros(n + 2)\n",
    "\n",
    "    y[0] = alpha\n",
    "    y[n + 1] = beta\n",
    "\n",
    "    p = np.array([p(i) for i in x])\n",
    "    q = np.array([q(i) for i in x])\n",
    "    \n",
    "    b = np.zeros(n)\n",
    "    b[0] = r(x[1]) - alpha*(1/h**2 + p[1]/(2*h))\n",
    "    b[1:n-1] = [r(i) for i in x[2:n]]\n",
    "    b[n-1] = r(x[n]) - beta*(1/h**2 - p[1]/(2*h))\n",
    "\n",
    "    c = 1/h**2 + p[2:n + 1]/(2*h)\n",
    "    d = -2/h**2 - q[1:n + 1]\n",
    "    e = 1/h**2 - p[1:n]/(2*h)\n",
    "\n",
    "    print(c, d, e, b, sep='\\n')\n",
    "    y = lu_tridiagonal(c, d, e, b)\n",
    "    return x, y\n",
    "\n",
    "a, b = 0, 1\n",
    "alpha = 1\n",
    "beta = 3\n",
    "h = 0.1\n",
    "n = 9\n",
    "\n",
    "def p(x):\n",
    "    return -2\n",
    "\n",
    "def q(x):\n",
    "    return -1\n",
    "\n",
    "def r(x):\n",
    "    return 0\n",
    "\n",
    "x, y  = diferencias_finitas(a, b, alpha, beta, p, q, r, n)\n",
    "y = np.insert(y, 0, alpha, axis=0)\n",
    "y = np.append(y, beta)\n",
    "print(y)\n",
    "\n",
    "plt.plot(x, y, marker='x', linewidth=0.5)\n",
    "plt.plot(x, [np.e**(-i) + (3*np.e - 1)*i*np.e**(-i) for i in x], marker='x', linewidth=0.5)\n",
    "plt.legend((\"Finite difference\", \"Exact solution\"))\n",
    "plt.xlabel(\"x\")\n",
    "plt.ylabel(\"y\")\n",
    "plt.grid(True)\n",
    "plt.title(\"Finite Differences\")\n",
    "plt.show()"
   ]
  },
  {
   "cell_type": "code",
   "execution_count": null,
   "metadata": {},
   "outputs": [],
   "source": []
  }
 ],
 "metadata": {
  "kernelspec": {
   "display_name": "Python 3",
   "language": "python",
   "name": "python3"
  },
  "language_info": {
   "codemirror_mode": {
    "name": "ipython",
    "version": 3
   },
   "file_extension": ".py",
   "mimetype": "text/x-python",
   "name": "python",
   "nbconvert_exporter": "python",
   "pygments_lexer": "ipython3",
   "version": "3.8.5"
  }
 },
 "nbformat": 4,
 "nbformat_minor": 4
}
