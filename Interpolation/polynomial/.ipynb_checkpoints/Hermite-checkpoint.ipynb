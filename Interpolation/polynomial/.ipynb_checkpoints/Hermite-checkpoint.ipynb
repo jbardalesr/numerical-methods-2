{
 "cells": [
  {
   "cell_type": "code",
   "execution_count": 1,
   "metadata": {},
   "outputs": [],
   "source": [
    "import numpy as np\n",
    "import math\n",
    "import matplotlib.pyplot as plt\n",
    "import sympy as sp\n",
    "import pandas as pd"
   ]
  },
  {
   "cell_type": "code",
   "execution_count": 2,
   "metadata": {},
   "outputs": [],
   "source": [
    "def coeff_hermite(n, x_data, y_data, dy_data):\n",
    "    # n nodes, n - 1 degre\n",
    "    Q = np.zeros((2*n, 2*n))\n",
    "\n",
    "    # duplicate x in z odd and even\n",
    "    z = np.zeros(2*n)\n",
    "    z[0::2] = x_data[:n]\n",
    "    z[1::2] = x_data[:n]\n",
    "\n",
    "    Q[0::2, 0] = y_data[:n]\n",
    "    Q[1::2, 0] = y_data[:n]\n",
    "\n",
    "    Q[1::2, 1] = dy_data[:n]\n",
    "\n",
    "    # first difference\n",
    "    for i in range(1, n):\n",
    "        Q[2*i, 1] = (Q[2*i, 0] - Q[2*i - 1, 0])/(z[2*i] - z[2*i - 1])\n",
    "\n",
    "    # divide differences\n",
    "    for i in range(2, 2*n):\n",
    "        for j in range(2, i + 1):\n",
    "            Q[i, j] = (Q[i, j - 1] - Q[i - 1, j - 1])/(z[i] - z[i - j])\n",
    "    return Q\n",
    "\n",
    "def nested_hermite(n, x, a, x_data):\n",
    "    p = a[2*n-1]\n",
    "    for k in range(1, 2*n):\n",
    "        p = a[2*n-1-k] + (x - x_data[(2*n-1-k)//2])*p\n",
    "    return p"
   ]
  },
  {
   "cell_type": "markdown",
   "metadata": {},
   "source": [
    "## Table"
   ]
  },
  {
   "cell_type": "code",
   "execution_count": 25,
   "metadata": {},
   "outputs": [
    {
     "data": {
      "text/html": [
       "<div>\n",
       "<style scoped>\n",
       "    .dataframe tbody tr th:only-of-type {\n",
       "        vertical-align: middle;\n",
       "    }\n",
       "\n",
       "    .dataframe tbody tr th {\n",
       "        vertical-align: top;\n",
       "    }\n",
       "\n",
       "    .dataframe thead th {\n",
       "        text-align: right;\n",
       "    }\n",
       "</style>\n",
       "<table border=\"1\" class=\"dataframe\">\n",
       "  <thead>\n",
       "    <tr style=\"text-align: right;\">\n",
       "      <th></th>\n",
       "      <th>f[z_i]</th>\n",
       "      <th>f[;]</th>\n",
       "      <th>f[;;]</th>\n",
       "      <th>f[;;;]</th>\n",
       "      <th>f[;;;;]</th>\n",
       "      <th>f[;;;;;]</th>\n",
       "    </tr>\n",
       "  </thead>\n",
       "  <tbody>\n",
       "    <tr>\n",
       "      <th>0</th>\n",
       "      <td>1.0</td>\n",
       "      <td>0.000000000</td>\n",
       "      <td>0.000000000</td>\n",
       "      <td>0.000000000</td>\n",
       "      <td>0.000000000</td>\n",
       "      <td>0.000000000</td>\n",
       "    </tr>\n",
       "    <tr>\n",
       "      <th>1</th>\n",
       "      <td>1.0</td>\n",
       "      <td>0.333333333</td>\n",
       "      <td>0.000000000</td>\n",
       "      <td>0.000000000</td>\n",
       "      <td>0.000000000</td>\n",
       "      <td>0.000000000</td>\n",
       "    </tr>\n",
       "    <tr>\n",
       "      <th>2</th>\n",
       "      <td>2.0</td>\n",
       "      <td>0.142857143</td>\n",
       "      <td>-0.027210884</td>\n",
       "      <td>0.000000000</td>\n",
       "      <td>0.000000000</td>\n",
       "      <td>0.000000000</td>\n",
       "    </tr>\n",
       "    <tr>\n",
       "      <th>3</th>\n",
       "      <td>2.0</td>\n",
       "      <td>0.083333333</td>\n",
       "      <td>-0.008503401</td>\n",
       "      <td>0.002672498</td>\n",
       "      <td>0.000000000</td>\n",
       "      <td>0.000000000</td>\n",
       "    </tr>\n",
       "    <tr>\n",
       "      <th>4</th>\n",
       "      <td>3.0</td>\n",
       "      <td>0.052631579</td>\n",
       "      <td>-0.001615882</td>\n",
       "      <td>0.000264905</td>\n",
       "      <td>-0.000092600</td>\n",
       "      <td>0.000000000</td>\n",
       "    </tr>\n",
       "    <tr>\n",
       "      <th>5</th>\n",
       "      <td>3.0</td>\n",
       "      <td>0.037037037</td>\n",
       "      <td>-0.000820765</td>\n",
       "      <td>0.000041848</td>\n",
       "      <td>-0.000008579</td>\n",
       "      <td>0.000003232</td>\n",
       "    </tr>\n",
       "  </tbody>\n",
       "</table>\n",
       "</div>"
      ],
      "text/plain": [
       "   f[z_i]         f[;]        f[;;]       f[;;;]      f[;;;;]     f[;;;;;]\n",
       "0     1.0  0.000000000  0.000000000  0.000000000  0.000000000  0.000000000\n",
       "1     1.0  0.333333333  0.000000000  0.000000000  0.000000000  0.000000000\n",
       "2     2.0  0.142857143 -0.027210884  0.000000000  0.000000000  0.000000000\n",
       "3     2.0  0.083333333 -0.008503401  0.002672498  0.000000000  0.000000000\n",
       "4     3.0  0.052631579 -0.001615882  0.000264905 -0.000092600  0.000000000\n",
       "5     3.0  0.037037037 -0.000820765  0.000041848 -0.000008579  0.000003232"
      ]
     },
     "execution_count": 25,
     "metadata": {},
     "output_type": "execute_result"
    }
   ],
   "source": [
    "x_data = np.array([1, 8, 27])\n",
    "y_data = np.array([1, 2, 3])\n",
    "dy_data = np.array([0.333333333, 0.083333333, 0.037037037])\n",
    "n = len(x_data)\n",
    "N = 9\n",
    "a = np.round(coeff_hermite(n, x_data, y_data, dy_data), N)\n",
    "df = pd.DataFrame(data=a, index=range(len(a[:,0])), columns=[\"f[z_i]\", \"f[;]\" , \"f[;;]\", \"f[;;;]\", \"f[;;;;]\", \"f[;;;;;]\"])\n",
    "pd.set_option(\"display.precision\", N)\n",
    "df"
   ]
  },
  {
   "cell_type": "markdown",
   "metadata": {},
   "source": [
    "### Polynomial"
   ]
  },
  {
   "cell_type": "code",
   "execution_count": 27,
   "metadata": {},
   "outputs": [
    {
     "data": {
      "text/latex": [
       "$\\displaystyle \\left(x - 1\\right) \\left(\\left(x - 1\\right) \\left(\\left(x - 8\\right) \\left(\\left(3.232 \\cdot 10^{-6} x - 0.000179864\\right) \\left(x - 8\\right) + 0.002672498\\right) - 0.027210884\\right) + 0.333333333\\right) + 1.0$"
      ],
      "text/plain": [
       "(x - 1)*((x - 1)*((x - 8)*((3.232e-6*x - 0.000179864)*(x - 8) + 0.002672498) - 0.027210884) + 0.333333333) + 1.0"
      ]
     },
     "execution_count": 27,
     "metadata": {},
     "output_type": "execute_result"
    }
   ],
   "source": [
    "x = sp.symbols('x')\n",
    "p = nested_hermite(n, x, np.diag(a), x_data)\n",
    "p"
   ]
  },
  {
   "cell_type": "code",
   "execution_count": 28,
   "metadata": {},
   "outputs": [
    {
     "data": {
      "text/latex": [
       "$\\displaystyle 1.080004507$"
      ],
      "text/plain": [
       "1.080004507"
      ]
     },
     "execution_count": 28,
     "metadata": {},
     "output_type": "execute_result"
    }
   ],
   "source": [
    "round(p.subs(x, 1.25), 9)"
   ]
  },
  {
   "cell_type": "markdown",
   "metadata": {},
   "source": [
    "### Plot"
   ]
  },
  {
   "cell_type": "code",
   "execution_count": 31,
   "metadata": {},
   "outputs": [
    {
     "data": {
      "image/png": "[encoded data removed]",
      "text/plain": [
       "<Figure size 432x288 with 1 Axes>"
      ]
     },
     "metadata": {
      "needs_background": "light"
     },
     "output_type": "display_data"
    }
   ],
   "source": [
    "x_interval = np.linspace(np.min(x_data), np.max(x_data), 100)\n",
    "y_interval = [p.subs(x, i) for i in x_interval]\n",
    "\n",
    "plt.plot(x_interval, y_interval)\n",
    "plt.plot(x_interval, [i**(1/3) for i in x_interval])\n",
    "plt.scatter(x_data, y_data)\n",
    "plt.grid(True)\n",
    "plt.title(\"Hermite interpolation\")\n",
    "plt.legend((\"f(x)\",\"x^(1/3)\", \"points\"))\n",
    "plt.xlabel(\"X\")\n",
    "plt.ylabel(\"Y\")\n",
    "plt.show()"
   ]
  },
  {
   "cell_type": "code",
   "execution_count": null,
   "metadata": {},
   "outputs": [],
   "source": []
  }
 ],
 "metadata": {
  "kernelspec": {
   "display_name": "Python 3",
   "language": "python",
   "name": "python3"
  },
  "language_info": {
   "codemirror_mode": {
    "name": "ipython",
    "version": 3
   },
   "file_extension": ".py",
   "mimetype": "text/x-python",
   "name": "python",
   "nbconvert_exporter": "python",
   "pygments_lexer": "ipython3",
   "version": "3.8.5"
  }
 },
 "nbformat": 4,
 "nbformat_minor": 4
}
